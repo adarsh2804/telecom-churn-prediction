{
  "cells": [
    {
      "cell_type": "markdown",
      "id": "z2jdVMgNTaNV",
      "metadata": {
        "id": "z2jdVMgNTaNV"
      },
      "source": [
        "# Problem Statement :-"
      ]
    },
    {
      "cell_type": "markdown",
      "id": "AiFd6JIZTaNV",
      "metadata": {
        "id": "AiFd6JIZTaNV"
      },
      "source": [
        "### Given a customer-level data of a leading telecom firm which contains information of customers with some attributes. Design a predictive model to identify the customers which are at high risk of churn i.e. customers which are more likely to cancel subscription of the telecom company."
      ]
    },
    {
      "cell_type": "markdown",
      "id": "L_eRoRyXTaNW",
      "metadata": {
        "id": "L_eRoRyXTaNW"
      },
      "source": [
        "# Objective :-"
      ]
    },
    {
      "cell_type": "markdown",
      "id": "5-85Q3b6TaNW",
      "metadata": {
        "id": "5-85Q3b6TaNW"
      },
      "source": [
        "### In the telecom industry, customers are able to choose from various service providers and can switch from one operator to other. In this highly competitive market, the telecommunications industry experiences an average of 15-25% annual churn rate, therefore, it is very important for the companies to retain their customers. The cost of retaining an existing customer is far less than acquiring a new one. This model will help the companies to know the factors which are significant in customer churn so they can work on them. This model will help the company to retain their existing customers."
      ]
    },
    {
      "cell_type": "code",
      "execution_count": 208,
      "id": "P8MO7lvWTaNW",
      "metadata": {
        "id": "P8MO7lvWTaNW"
      },
      "outputs": [],
      "source": [
        "# importing important libraries\n",
        "import warnings\n",
        "warnings.filterwarnings(\"ignore\")\n",
        "import numpy as np\n",
        "import pandas as pd\n",
        "import seaborn as sns\n",
        "from sklearn.model_selection import train_test_split\n",
        "from sklearn.preprocessing import LabelEncoder\n",
        "import matplotlib.pyplot as plt\n",
        "from sklearn.preprocessing import StandardScaler\n",
        "from sklearn.neighbors import KNeighborsClassifier\n",
        "from sklearn.linear_model import LogisticRegression\n",
        "from sklearn.metrics import confusion_matrix\n",
        "from sklearn import svm\n",
        "from sklearn.ensemble import RandomForestClassifier\n",
        "from sklearn.ensemble import AdaBoostClassifier\n",
        "from sklearn.tree import DecisionTreeClassifier\n",
        "from sklearn.metrics import classification_report\n",
        "from sklearn.metrics import roc_curve\n",
        "from sklearn.metrics import roc_auc_score"
      ]
    },
    {
      "cell_type": "code",
      "execution_count": 177,
      "id": "c1J5M4DsTaNX",
      "metadata": {
        "id": "c1J5M4DsTaNX"
      },
      "outputs": [],
      "source": [
        "# loading dataset\n",
        "data = pd.read_csv(\"telecom_churn.csv\")"
      ]
    },
    {
      "cell_type": "code",
      "execution_count": 178,
      "id": "G13T6a9kTaNX",
      "metadata": {
        "colab": {
          "base_uri": "https://localhost:8080/",
          "height": 285
        },
        "id": "G13T6a9kTaNX",
        "outputId": "f513dd4b-ac00-46d9-d098-150ddecad4c7"
      },
      "outputs": [
        {
          "data": {
            "text/html": [
              "\n",
              "  <div id=\"df-7d558495-2b74-4472-8ddc-2c92631c093c\">\n",
              "    <div class=\"colab-df-container\">\n",
              "      <div>\n",
              "<style scoped>\n",
              "    .dataframe tbody tr th:only-of-type {\n",
              "        vertical-align: middle;\n",
              "    }\n",
              "\n",
              "    .dataframe tbody tr th {\n",
              "        vertical-align: top;\n",
              "    }\n",
              "\n",
              "    .dataframe thead th {\n",
              "        text-align: right;\n",
              "    }\n",
              "</style>\n",
              "<table border=\"1\" class=\"dataframe\">\n",
              "  <thead>\n",
              "    <tr style=\"text-align: right;\">\n",
              "      <th></th>\n",
              "      <th>State</th>\n",
              "      <th>Account length</th>\n",
              "      <th>Area code</th>\n",
              "      <th>International plan</th>\n",
              "      <th>Voice mail plan</th>\n",
              "      <th>Number vmail messages</th>\n",
              "      <th>Total day minutes</th>\n",
              "      <th>Total day calls</th>\n",
              "      <th>Total day charge</th>\n",
              "      <th>Total eve minutes</th>\n",
              "      <th>Total eve calls</th>\n",
              "      <th>Total eve charge</th>\n",
              "      <th>Total night minutes</th>\n",
              "      <th>Total night calls</th>\n",
              "      <th>Total night charge</th>\n",
              "      <th>Total intl minutes</th>\n",
              "      <th>Total intl calls</th>\n",
              "      <th>Total intl charge</th>\n",
              "      <th>Customer service calls</th>\n",
              "      <th>Churn</th>\n",
              "    </tr>\n",
              "  </thead>\n",
              "  <tbody>\n",
              "    <tr>\n",
              "      <th>0</th>\n",
              "      <td>KS</td>\n",
              "      <td>128</td>\n",
              "      <td>415</td>\n",
              "      <td>No</td>\n",
              "      <td>Yes</td>\n",
              "      <td>25</td>\n",
              "      <td>265.1</td>\n",
              "      <td>110</td>\n",
              "      <td>45.07</td>\n",
              "      <td>197.4</td>\n",
              "      <td>99</td>\n",
              "      <td>16.78</td>\n",
              "      <td>244.7</td>\n",
              "      <td>91</td>\n",
              "      <td>11.01</td>\n",
              "      <td>10.0</td>\n",
              "      <td>3</td>\n",
              "      <td>2.70</td>\n",
              "      <td>1</td>\n",
              "      <td>False</td>\n",
              "    </tr>\n",
              "    <tr>\n",
              "      <th>1</th>\n",
              "      <td>OH</td>\n",
              "      <td>107</td>\n",
              "      <td>415</td>\n",
              "      <td>No</td>\n",
              "      <td>Yes</td>\n",
              "      <td>26</td>\n",
              "      <td>161.6</td>\n",
              "      <td>123</td>\n",
              "      <td>27.47</td>\n",
              "      <td>195.5</td>\n",
              "      <td>103</td>\n",
              "      <td>16.62</td>\n",
              "      <td>254.4</td>\n",
              "      <td>103</td>\n",
              "      <td>11.45</td>\n",
              "      <td>13.7</td>\n",
              "      <td>3</td>\n",
              "      <td>3.70</td>\n",
              "      <td>1</td>\n",
              "      <td>False</td>\n",
              "    </tr>\n",
              "    <tr>\n",
              "      <th>2</th>\n",
              "      <td>NJ</td>\n",
              "      <td>137</td>\n",
              "      <td>415</td>\n",
              "      <td>No</td>\n",
              "      <td>No</td>\n",
              "      <td>0</td>\n",
              "      <td>243.4</td>\n",
              "      <td>114</td>\n",
              "      <td>41.38</td>\n",
              "      <td>121.2</td>\n",
              "      <td>110</td>\n",
              "      <td>10.30</td>\n",
              "      <td>162.6</td>\n",
              "      <td>104</td>\n",
              "      <td>7.32</td>\n",
              "      <td>12.2</td>\n",
              "      <td>5</td>\n",
              "      <td>3.29</td>\n",
              "      <td>0</td>\n",
              "      <td>False</td>\n",
              "    </tr>\n",
              "    <tr>\n",
              "      <th>3</th>\n",
              "      <td>OH</td>\n",
              "      <td>84</td>\n",
              "      <td>408</td>\n",
              "      <td>Yes</td>\n",
              "      <td>No</td>\n",
              "      <td>0</td>\n",
              "      <td>299.4</td>\n",
              "      <td>71</td>\n",
              "      <td>50.90</td>\n",
              "      <td>61.9</td>\n",
              "      <td>88</td>\n",
              "      <td>5.26</td>\n",
              "      <td>196.9</td>\n",
              "      <td>89</td>\n",
              "      <td>8.86</td>\n",
              "      <td>6.6</td>\n",
              "      <td>7</td>\n",
              "      <td>1.78</td>\n",
              "      <td>2</td>\n",
              "      <td>False</td>\n",
              "    </tr>\n",
              "    <tr>\n",
              "      <th>4</th>\n",
              "      <td>OK</td>\n",
              "      <td>75</td>\n",
              "      <td>415</td>\n",
              "      <td>Yes</td>\n",
              "      <td>No</td>\n",
              "      <td>0</td>\n",
              "      <td>166.7</td>\n",
              "      <td>113</td>\n",
              "      <td>28.34</td>\n",
              "      <td>148.3</td>\n",
              "      <td>122</td>\n",
              "      <td>12.61</td>\n",
              "      <td>186.9</td>\n",
              "      <td>121</td>\n",
              "      <td>8.41</td>\n",
              "      <td>10.1</td>\n",
              "      <td>3</td>\n",
              "      <td>2.73</td>\n",
              "      <td>3</td>\n",
              "      <td>False</td>\n",
              "    </tr>\n",
              "  </tbody>\n",
              "</table>\n",
              "</div>\n",
              "      <button class=\"colab-df-convert\" onclick=\"convertToInteractive('df-7d558495-2b74-4472-8ddc-2c92631c093c')\"\n",
              "              title=\"Convert this dataframe to an interactive table.\"\n",
              "              style=\"display:none;\">\n",
              "        \n",
              "  <svg xmlns=\"http://www.w3.org/2000/svg\" height=\"24px\"viewBox=\"0 0 24 24\"\n",
              "       width=\"24px\">\n",
              "    <path d=\"M0 0h24v24H0V0z\" fill=\"none\"/>\n",
              "    <path d=\"M18.56 5.44l.94 2.06.94-2.06 2.06-.94-2.06-.94-.94-2.06-.94 2.06-2.06.94zm-11 1L8.5 8.5l.94-2.06 2.06-.94-2.06-.94L8.5 2.5l-.94 2.06-2.06.94zm10 10l.94 2.06.94-2.06 2.06-.94-2.06-.94-.94-2.06-.94 2.06-2.06.94z\"/><path d=\"M17.41 7.96l-1.37-1.37c-.4-.4-.92-.59-1.43-.59-.52 0-1.04.2-1.43.59L10.3 9.45l-7.72 7.72c-.78.78-.78 2.05 0 2.83L4 21.41c.39.39.9.59 1.41.59.51 0 1.02-.2 1.41-.59l7.78-7.78 2.81-2.81c.8-.78.8-2.07 0-2.86zM5.41 20L4 18.59l7.72-7.72 1.47 1.35L5.41 20z\"/>\n",
              "  </svg>\n",
              "      </button>\n",
              "      \n",
              "  <style>\n",
              "    .colab-df-container {\n",
              "      display:flex;\n",
              "      flex-wrap:wrap;\n",
              "      gap: 12px;\n",
              "    }\n",
              "\n",
              "    .colab-df-convert {\n",
              "      background-color: #E8F0FE;\n",
              "      border: none;\n",
              "      border-radius: 50%;\n",
              "      cursor: pointer;\n",
              "      display: none;\n",
              "      fill: #1967D2;\n",
              "      height: 32px;\n",
              "      padding: 0 0 0 0;\n",
              "      width: 32px;\n",
              "    }\n",
              "\n",
              "    .colab-df-convert:hover {\n",
              "      background-color: #E2EBFA;\n",
              "      box-shadow: 0px 1px 2px rgba(60, 64, 67, 0.3), 0px 1px 3px 1px rgba(60, 64, 67, 0.15);\n",
              "      fill: #174EA6;\n",
              "    }\n",
              "\n",
              "    [theme=dark] .colab-df-convert {\n",
              "      background-color: #3B4455;\n",
              "      fill: #D2E3FC;\n",
              "    }\n",
              "\n",
              "    [theme=dark] .colab-df-convert:hover {\n",
              "      background-color: #434B5C;\n",
              "      box-shadow: 0px 1px 3px 1px rgba(0, 0, 0, 0.15);\n",
              "      filter: drop-shadow(0px 1px 2px rgba(0, 0, 0, 0.3));\n",
              "      fill: #FFFFFF;\n",
              "    }\n",
              "  </style>\n",
              "\n",
              "      <script>\n",
              "        const buttonEl =\n",
              "          document.querySelector('#df-7d558495-2b74-4472-8ddc-2c92631c093c button.colab-df-convert');\n",
              "        buttonEl.style.display =\n",
              "          google.colab.kernel.accessAllowed ? 'block' : 'none';\n",
              "\n",
              "        async function convertToInteractive(key) {\n",
              "          const element = document.querySelector('#df-7d558495-2b74-4472-8ddc-2c92631c093c');\n",
              "          const dataTable =\n",
              "            await google.colab.kernel.invokeFunction('convertToInteractive',\n",
              "                                                     [key], {});\n",
              "          if (!dataTable) return;\n",
              "\n",
              "          const docLinkHtml = 'Like what you see? Visit the ' +\n",
              "            '<a target=\"_blank\" href=https://colab.research.google.com/notebooks/data_table.ipynb>data table notebook</a>'\n",
              "            + ' to learn more about interactive tables.';\n",
              "          element.innerHTML = '';\n",
              "          dataTable['output_type'] = 'display_data';\n",
              "          await google.colab.output.renderOutput(dataTable, element);\n",
              "          const docLink = document.createElement('div');\n",
              "          docLink.innerHTML = docLinkHtml;\n",
              "          element.appendChild(docLink);\n",
              "        }\n",
              "      </script>\n",
              "    </div>\n",
              "  </div>\n",
              "  "
            ],
            "text/plain": [
              "  State  Account length  Area code International plan Voice mail plan  \\\n",
              "0    KS             128        415                 No             Yes   \n",
              "1    OH             107        415                 No             Yes   \n",
              "2    NJ             137        415                 No              No   \n",
              "3    OH              84        408                Yes              No   \n",
              "4    OK              75        415                Yes              No   \n",
              "\n",
              "   Number vmail messages  Total day minutes  Total day calls  \\\n",
              "0                     25              265.1              110   \n",
              "1                     26              161.6              123   \n",
              "2                      0              243.4              114   \n",
              "3                      0              299.4               71   \n",
              "4                      0              166.7              113   \n",
              "\n",
              "   Total day charge  Total eve minutes  Total eve calls  Total eve charge  \\\n",
              "0             45.07              197.4               99             16.78   \n",
              "1             27.47              195.5              103             16.62   \n",
              "2             41.38              121.2              110             10.30   \n",
              "3             50.90               61.9               88              5.26   \n",
              "4             28.34              148.3              122             12.61   \n",
              "\n",
              "   Total night minutes  Total night calls  Total night charge  \\\n",
              "0                244.7                 91               11.01   \n",
              "1                254.4                103               11.45   \n",
              "2                162.6                104                7.32   \n",
              "3                196.9                 89                8.86   \n",
              "4                186.9                121                8.41   \n",
              "\n",
              "   Total intl minutes  Total intl calls  Total intl charge  \\\n",
              "0                10.0                 3               2.70   \n",
              "1                13.7                 3               3.70   \n",
              "2                12.2                 5               3.29   \n",
              "3                 6.6                 7               1.78   \n",
              "4                10.1                 3               2.73   \n",
              "\n",
              "   Customer service calls  Churn  \n",
              "0                       1  False  \n",
              "1                       1  False  \n",
              "2                       0  False  \n",
              "3                       2  False  \n",
              "4                       3  False  "
            ]
          },
          "execution_count": 178,
          "metadata": {},
          "output_type": "execute_result"
        }
      ],
      "source": [
        "data.head()"
      ]
    },
    {
      "cell_type": "markdown",
      "id": "7P7X7GxsTaNY",
      "metadata": {
        "id": "7P7X7GxsTaNY"
      },
      "source": [
        "### Data cleaning and EDA part is done in R. Here, we will prepare the data to fit various machine learning models on it. Then we will select which one is performing the best."
      ]
    },
    {
      "cell_type": "code",
      "execution_count": 179,
      "id": "MZ6ZqDx4UHry",
      "metadata": {
        "colab": {
          "base_uri": "https://localhost:8080/"
        },
        "id": "MZ6ZqDx4UHry",
        "outputId": "262e0f4f-ad82-4626-ca2a-7a83cdb1ff53"
      },
      "outputs": [
        {
          "name": "stdout",
          "output_type": "stream",
          "text": [
            "<class 'pandas.core.frame.DataFrame'>\n",
            "RangeIndex: 3333 entries, 0 to 3332\n",
            "Data columns (total 20 columns):\n",
            " #   Column                  Non-Null Count  Dtype  \n",
            "---  ------                  --------------  -----  \n",
            " 0   State                   3333 non-null   object \n",
            " 1   Account length          3333 non-null   int64  \n",
            " 2   Area code               3333 non-null   int64  \n",
            " 3   International plan      3333 non-null   object \n",
            " 4   Voice mail plan         3333 non-null   object \n",
            " 5   Number vmail messages   3333 non-null   int64  \n",
            " 6   Total day minutes       3333 non-null   float64\n",
            " 7   Total day calls         3333 non-null   int64  \n",
            " 8   Total day charge        3333 non-null   float64\n",
            " 9   Total eve minutes       3333 non-null   float64\n",
            " 10  Total eve calls         3333 non-null   int64  \n",
            " 11  Total eve charge        3333 non-null   float64\n",
            " 12  Total night minutes     3333 non-null   float64\n",
            " 13  Total night calls       3333 non-null   int64  \n",
            " 14  Total night charge      3333 non-null   float64\n",
            " 15  Total intl minutes      3333 non-null   float64\n",
            " 16  Total intl calls        3333 non-null   int64  \n",
            " 17  Total intl charge       3333 non-null   float64\n",
            " 18  Customer service calls  3333 non-null   int64  \n",
            " 19  Churn                   3333 non-null   bool   \n",
            "dtypes: bool(1), float64(8), int64(8), object(3)\n",
            "memory usage: 498.1+ KB\n"
          ]
        }
      ],
      "source": [
        "data.info()"
      ]
    },
    {
      "cell_type": "markdown",
      "id": "c9QsQH9gTaNc",
      "metadata": {
        "id": "c9QsQH9gTaNc"
      },
      "source": [
        "# Numerical and Categorical Variables :-"
      ]
    },
    {
      "cell_type": "code",
      "execution_count": 180,
      "id": "aqPCrYXfUbRi",
      "metadata": {
        "id": "aqPCrYXfUbRi"
      },
      "outputs": [],
      "source": [
        "# list of numericals columns\n",
        "numeric_columns = [\"Account length\", \"Number vmail messages\", \"Total day minutes\", \"Total day calls\", \"Total day charge\", \"Total eve minutes\", \"Total eve calls\", \"Total eve charge\", \"Total night minutes\", \"Total night calls\", \"Total night charge\", \"Total intl minutes\", \"Total intl calls\", \"Total intl charge\", \"Customer service calls\"]\n",
        "# list of categorical columns\n",
        "categorical_columns = [\"State\", \"Area code\", \"International plan\", \"Voice mail plan\", \"Churn\"]\n",
        "# target variable\n",
        "target = [\"Churn\"]\n",
        "\n",
        "numeric_data = data[numeric_columns]\n",
        "categorical_data = data[categorical_columns]\n"
      ]
    },
    {
      "cell_type": "markdown",
      "id": "oRcg0kkMTaNf",
      "metadata": {
        "id": "oRcg0kkMTaNf"
      },
      "source": [
        "# Correlation of numeric variables"
      ]
    },
    {
      "cell_type": "code",
      "execution_count": 181,
      "id": "8t2u-8S2UsYG",
      "metadata": {
        "colab": {
          "base_uri": "https://localhost:8080/",
          "height": 549
        },
        "id": "8t2u-8S2UsYG",
        "outputId": "9491dd03-5538-4b27-b927-962fa7aa94a6"
      },
      "outputs": [
        {
          "data": {
            "image/png": "[encoded data removed]",
            "text/plain": [
              "<Figure size 1440x504 with 2 Axes>"
            ]
          },
          "metadata": {},
          "output_type": "display_data"
        }
      ],
      "source": [
        "# Correlation between numerical variables :-\n",
        "plt.figure(figsize=(20, 7))\n",
        "heatmap = sns.heatmap(numeric_data.corr(), vmin=-1, vmax=1, annot=True)\n",
        "heatmap.set_title('Correlation of numeric attributes', fontdict={'fontsize':12}, pad=12);"
      ]
    },
    {
      "cell_type": "markdown",
      "id": "yg_7NEZCTaNg",
      "metadata": {
        "id": "yg_7NEZCTaNg"
      },
      "source": [
        "### We can see that there are certain attributes with correlation of 1. Total minutes and total charge is perfectly correlated, regardless whether it is day calls, evening calls, night calls. or international calls.We can drop these attributes."
      ]
    },
    {
      "cell_type": "markdown",
      "id": "GdRTAuWbVnWx",
      "metadata": {
        "id": "GdRTAuWbVnWx"
      },
      "source": [
        "# Treating multicollinearity :-"
      ]
    },
    {
      "cell_type": "code",
      "execution_count": 182,
      "id": "93zsNx8dVp0r",
      "metadata": {
        "id": "93zsNx8dVp0r"
      },
      "outputs": [],
      "source": [
        "numeric_data.drop(columns=[\"Total day minutes\", \"Total eve minutes\", \"Total night minutes\", \"Total intl minutes\"], axis=1, inplace=True)"
      ]
    },
    {
      "cell_type": "code",
      "execution_count": 183,
      "id": "pf-hxWvpV2zu",
      "metadata": {
        "colab": {
          "base_uri": "https://localhost:8080/",
          "height": 512
        },
        "id": "pf-hxWvpV2zu",
        "outputId": "05d2b53d-7e5c-4130-fddd-9b0e98829eb0"
      },
      "outputs": [
        {
          "data": {
            "text/plain": [
              "Text(0.5, 1.0, 'Correlation of numeric attributes')"
            ]
          },
          "execution_count": 183,
          "metadata": {},
          "output_type": "execute_result"
        },
        {
          "data": {
            "image/png": "[encoded data removed]",
            "text/plain": [
              "<Figure size 1440x432 with 2 Axes>"
            ]
          },
          "metadata": {},
          "output_type": "display_data"
        }
      ],
      "source": [
        "plt.figure(figsize=(20, 6))\n",
        "heatmap = sns.heatmap(numeric_data.corr(), vmin=-1, vmax=1, annot=True)\n",
        "heatmap.set_title('Correlation of numeric attributes', fontdict={'fontsize':12}, pad=12)"
      ]
    },
    {
      "cell_type": "markdown",
      "id": "ats6uWE2TaNh",
      "metadata": {
        "id": "ats6uWE2TaNh"
      },
      "source": [
        "# Scaling numeric attributes"
      ]
    },
    {
      "cell_type": "markdown",
      "id": "Q9W8EZG4TaNh",
      "metadata": {
        "id": "Q9W8EZG4TaNh"
      },
      "source": [
        "#### Since the values of numerical columns are at different scale, we should bring them at simillar scale otherwise the columns which are having high values or are at higher scale will dominate while fitting the model and we will not get accurate results."
      ]
    },
    {
      "cell_type": "code",
      "execution_count": 184,
      "id": "UeWg_qi1TaNh",
      "metadata": {
        "id": "UeWg_qi1TaNh"
      },
      "outputs": [],
      "source": [
        "scaler = StandardScaler()         # use to scale the dataframe\n",
        "numeric_data = pd.DataFrame(scaler.fit_transform(numeric_data) , columns = numeric_data.columns)"
      ]
    },
    {
      "cell_type": "code",
      "execution_count": 185,
      "id": "T7p7hCVYTaNi",
      "metadata": {
        "colab": {
          "base_uri": "https://localhost:8080/",
          "height": 267
        },
        "id": "T7p7hCVYTaNi",
        "outputId": "b6640558-1c50-4c0d-f0fa-f0087db3bbbf"
      },
      "outputs": [
        {
          "data": {
            "text/html": [
              "\n",
              "  <div id=\"df-2b66b632-ebbb-4ad0-90d2-b18df015b7ae\">\n",
              "    <div class=\"colab-df-container\">\n",
              "      <div>\n",
              "<style scoped>\n",
              "    .dataframe tbody tr th:only-of-type {\n",
              "        vertical-align: middle;\n",
              "    }\n",
              "\n",
              "    .dataframe tbody tr th {\n",
              "        vertical-align: top;\n",
              "    }\n",
              "\n",
              "    .dataframe thead th {\n",
              "        text-align: right;\n",
              "    }\n",
              "</style>\n",
              "<table border=\"1\" class=\"dataframe\">\n",
              "  <thead>\n",
              "    <tr style=\"text-align: right;\">\n",
              "      <th></th>\n",
              "      <th>Account length</th>\n",
              "      <th>Number vmail messages</th>\n",
              "      <th>Total day calls</th>\n",
              "      <th>Total day charge</th>\n",
              "      <th>Total eve calls</th>\n",
              "      <th>Total eve charge</th>\n",
              "      <th>Total night calls</th>\n",
              "      <th>Total night charge</th>\n",
              "      <th>Total intl calls</th>\n",
              "      <th>Total intl charge</th>\n",
              "      <th>Customer service calls</th>\n",
              "    </tr>\n",
              "  </thead>\n",
              "  <tbody>\n",
              "    <tr>\n",
              "      <th>0</th>\n",
              "      <td>0.676489</td>\n",
              "      <td>1.234883</td>\n",
              "      <td>0.476643</td>\n",
              "      <td>1.567036</td>\n",
              "      <td>-0.055940</td>\n",
              "      <td>-0.070427</td>\n",
              "      <td>-0.465494</td>\n",
              "      <td>0.866029</td>\n",
              "      <td>-0.601195</td>\n",
              "      <td>-0.085690</td>\n",
              "      <td>-0.427932</td>\n",
              "    </tr>\n",
              "    <tr>\n",
              "      <th>1</th>\n",
              "      <td>0.149065</td>\n",
              "      <td>1.307948</td>\n",
              "      <td>1.124503</td>\n",
              "      <td>-0.334013</td>\n",
              "      <td>0.144867</td>\n",
              "      <td>-0.107549</td>\n",
              "      <td>0.147825</td>\n",
              "      <td>1.059390</td>\n",
              "      <td>-0.601195</td>\n",
              "      <td>1.241169</td>\n",
              "      <td>-0.427932</td>\n",
              "    </tr>\n",
              "    <tr>\n",
              "      <th>2</th>\n",
              "      <td>0.902529</td>\n",
              "      <td>-0.591760</td>\n",
              "      <td>0.675985</td>\n",
              "      <td>1.168464</td>\n",
              "      <td>0.496279</td>\n",
              "      <td>-1.573900</td>\n",
              "      <td>0.198935</td>\n",
              "      <td>-0.755571</td>\n",
              "      <td>0.211534</td>\n",
              "      <td>0.697156</td>\n",
              "      <td>-1.188218</td>\n",
              "    </tr>\n",
              "    <tr>\n",
              "      <th>3</th>\n",
              "      <td>-0.428590</td>\n",
              "      <td>-0.591760</td>\n",
              "      <td>-1.466936</td>\n",
              "      <td>2.196759</td>\n",
              "      <td>-0.608159</td>\n",
              "      <td>-2.743268</td>\n",
              "      <td>-0.567714</td>\n",
              "      <td>-0.078806</td>\n",
              "      <td>1.024263</td>\n",
              "      <td>-1.306401</td>\n",
              "      <td>0.332354</td>\n",
              "    </tr>\n",
              "    <tr>\n",
              "      <th>4</th>\n",
              "      <td>-0.654629</td>\n",
              "      <td>-0.591760</td>\n",
              "      <td>0.626149</td>\n",
              "      <td>-0.240041</td>\n",
              "      <td>1.098699</td>\n",
              "      <td>-1.037939</td>\n",
              "      <td>1.067803</td>\n",
              "      <td>-0.276562</td>\n",
              "      <td>-0.601195</td>\n",
              "      <td>-0.045885</td>\n",
              "      <td>1.092641</td>\n",
              "    </tr>\n",
              "  </tbody>\n",
              "</table>\n",
              "</div>\n",
              "      <button class=\"colab-df-convert\" onclick=\"convertToInteractive('df-2b66b632-ebbb-4ad0-90d2-b18df015b7ae')\"\n",
              "              title=\"Convert this dataframe to an interactive table.\"\n",
              "              style=\"display:none;\">\n",
              "        \n",
              "  <svg xmlns=\"http://www.w3.org/2000/svg\" height=\"24px\"viewBox=\"0 0 24 24\"\n",
              "       width=\"24px\">\n",
              "    <path d=\"M0 0h24v24H0V0z\" fill=\"none\"/>\n",
              "    <path d=\"M18.56 5.44l.94 2.06.94-2.06 2.06-.94-2.06-.94-.94-2.06-.94 2.06-2.06.94zm-11 1L8.5 8.5l.94-2.06 2.06-.94-2.06-.94L8.5 2.5l-.94 2.06-2.06.94zm10 10l.94 2.06.94-2.06 2.06-.94-2.06-.94-.94-2.06-.94 2.06-2.06.94z\"/><path d=\"M17.41 7.96l-1.37-1.37c-.4-.4-.92-.59-1.43-.59-.52 0-1.04.2-1.43.59L10.3 9.45l-7.72 7.72c-.78.78-.78 2.05 0 2.83L4 21.41c.39.39.9.59 1.41.59.51 0 1.02-.2 1.41-.59l7.78-7.78 2.81-2.81c.8-.78.8-2.07 0-2.86zM5.41 20L4 18.59l7.72-7.72 1.47 1.35L5.41 20z\"/>\n",
              "  </svg>\n",
              "      </button>\n",
              "      \n",
              "  <style>\n",
              "    .colab-df-container {\n",
              "      display:flex;\n",
              "      flex-wrap:wrap;\n",
              "      gap: 12px;\n",
              "    }\n",
              "\n",
              "    .colab-df-convert {\n",
              "      background-color: #E8F0FE;\n",
              "      border: none;\n",
              "      border-radius: 50%;\n",
              "      cursor: pointer;\n",
              "      display: none;\n",
              "      fill: #1967D2;\n",
              "      height: 32px;\n",
              "      padding: 0 0 0 0;\n",
              "      width: 32px;\n",
              "    }\n",
              "\n",
              "    .colab-df-convert:hover {\n",
              "      background-color: #E2EBFA;\n",
              "      box-shadow: 0px 1px 2px rgba(60, 64, 67, 0.3), 0px 1px 3px 1px rgba(60, 64, 67, 0.15);\n",
              "      fill: #174EA6;\n",
              "    }\n",
              "\n",
              "    [theme=dark] .colab-df-convert {\n",
              "      background-color: #3B4455;\n",
              "      fill: #D2E3FC;\n",
              "    }\n",
              "\n",
              "    [theme=dark] .colab-df-convert:hover {\n",
              "      background-color: #434B5C;\n",
              "      box-shadow: 0px 1px 3px 1px rgba(0, 0, 0, 0.15);\n",
              "      filter: drop-shadow(0px 1px 2px rgba(0, 0, 0, 0.3));\n",
              "      fill: #FFFFFF;\n",
              "    }\n",
              "  </style>\n",
              "\n",
              "      <script>\n",
              "        const buttonEl =\n",
              "          document.querySelector('#df-2b66b632-ebbb-4ad0-90d2-b18df015b7ae button.colab-df-convert');\n",
              "        buttonEl.style.display =\n",
              "          google.colab.kernel.accessAllowed ? 'block' : 'none';\n",
              "\n",
              "        async function convertToInteractive(key) {\n",
              "          const element = document.querySelector('#df-2b66b632-ebbb-4ad0-90d2-b18df015b7ae');\n",
              "          const dataTable =\n",
              "            await google.colab.kernel.invokeFunction('convertToInteractive',\n",
              "                                                     [key], {});\n",
              "          if (!dataTable) return;\n",
              "\n",
              "          const docLinkHtml = 'Like what you see? Visit the ' +\n",
              "            '<a target=\"_blank\" href=https://colab.research.google.com/notebooks/data_table.ipynb>data table notebook</a>'\n",
              "            + ' to learn more about interactive tables.';\n",
              "          element.innerHTML = '';\n",
              "          dataTable['output_type'] = 'display_data';\n",
              "          await google.colab.output.renderOutput(dataTable, element);\n",
              "          const docLink = document.createElement('div');\n",
              "          docLink.innerHTML = docLinkHtml;\n",
              "          element.appendChild(docLink);\n",
              "        }\n",
              "      </script>\n",
              "    </div>\n",
              "  </div>\n",
              "  "
            ],
            "text/plain": [
              "   Account length  Number vmail messages  Total day calls  Total day charge  \\\n",
              "0        0.676489               1.234883         0.476643          1.567036   \n",
              "1        0.149065               1.307948         1.124503         -0.334013   \n",
              "2        0.902529              -0.591760         0.675985          1.168464   \n",
              "3       -0.428590              -0.591760        -1.466936          2.196759   \n",
              "4       -0.654629              -0.591760         0.626149         -0.240041   \n",
              "\n",
              "   Total eve calls  Total eve charge  Total night calls  Total night charge  \\\n",
              "0        -0.055940         -0.070427          -0.465494            0.866029   \n",
              "1         0.144867         -0.107549           0.147825            1.059390   \n",
              "2         0.496279         -1.573900           0.198935           -0.755571   \n",
              "3        -0.608159         -2.743268          -0.567714           -0.078806   \n",
              "4         1.098699         -1.037939           1.067803           -0.276562   \n",
              "\n",
              "   Total intl calls  Total intl charge  Customer service calls  \n",
              "0         -0.601195          -0.085690               -0.427932  \n",
              "1         -0.601195           1.241169               -0.427932  \n",
              "2          0.211534           0.697156               -1.188218  \n",
              "3          1.024263          -1.306401                0.332354  \n",
              "4         -0.601195          -0.045885                1.092641  "
            ]
          },
          "execution_count": 185,
          "metadata": {},
          "output_type": "execute_result"
        }
      ],
      "source": [
        "numeric_data.head()"
      ]
    },
    {
      "cell_type": "markdown",
      "id": "RhLgevolTaNi",
      "metadata": {
        "id": "RhLgevolTaNi"
      },
      "source": [
        "# One-hot encoding nominal attributes"
      ]
    },
    {
      "cell_type": "markdown",
      "id": "4_7kEZ8lTaNi",
      "metadata": {
        "id": "4_7kEZ8lTaNi"
      },
      "source": [
        "#### We will do one hot encoding on the nominal columns before fitting the model."
      ]
    },
    {
      "cell_type": "code",
      "execution_count": 186,
      "id": "1NDDdg33TaNi",
      "metadata": {
        "colab": {
          "base_uri": "https://localhost:8080/",
          "height": 206
        },
        "id": "1NDDdg33TaNi",
        "outputId": "1a8e6950-d108-4097-f74d-9cdeded4f1d0"
      },
      "outputs": [
        {
          "data": {
            "text/html": [
              "\n",
              "  <div id=\"df-efebf212-d77d-4167-a84e-509f32131a0e\">\n",
              "    <div class=\"colab-df-container\">\n",
              "      <div>\n",
              "<style scoped>\n",
              "    .dataframe tbody tr th:only-of-type {\n",
              "        vertical-align: middle;\n",
              "    }\n",
              "\n",
              "    .dataframe tbody tr th {\n",
              "        vertical-align: top;\n",
              "    }\n",
              "\n",
              "    .dataframe thead th {\n",
              "        text-align: right;\n",
              "    }\n",
              "</style>\n",
              "<table border=\"1\" class=\"dataframe\">\n",
              "  <thead>\n",
              "    <tr style=\"text-align: right;\">\n",
              "      <th></th>\n",
              "      <th>State</th>\n",
              "      <th>Area code</th>\n",
              "      <th>International plan</th>\n",
              "      <th>Voice mail plan</th>\n",
              "      <th>Churn</th>\n",
              "    </tr>\n",
              "  </thead>\n",
              "  <tbody>\n",
              "    <tr>\n",
              "      <th>0</th>\n",
              "      <td>KS</td>\n",
              "      <td>415</td>\n",
              "      <td>No</td>\n",
              "      <td>Yes</td>\n",
              "      <td>False</td>\n",
              "    </tr>\n",
              "    <tr>\n",
              "      <th>1</th>\n",
              "      <td>OH</td>\n",
              "      <td>415</td>\n",
              "      <td>No</td>\n",
              "      <td>Yes</td>\n",
              "      <td>False</td>\n",
              "    </tr>\n",
              "    <tr>\n",
              "      <th>2</th>\n",
              "      <td>NJ</td>\n",
              "      <td>415</td>\n",
              "      <td>No</td>\n",
              "      <td>No</td>\n",
              "      <td>False</td>\n",
              "    </tr>\n",
              "    <tr>\n",
              "      <th>3</th>\n",
              "      <td>OH</td>\n",
              "      <td>408</td>\n",
              "      <td>Yes</td>\n",
              "      <td>No</td>\n",
              "      <td>False</td>\n",
              "    </tr>\n",
              "    <tr>\n",
              "      <th>4</th>\n",
              "      <td>OK</td>\n",
              "      <td>415</td>\n",
              "      <td>Yes</td>\n",
              "      <td>No</td>\n",
              "      <td>False</td>\n",
              "    </tr>\n",
              "  </tbody>\n",
              "</table>\n",
              "</div>\n",
              "      <button class=\"colab-df-convert\" onclick=\"convertToInteractive('df-efebf212-d77d-4167-a84e-509f32131a0e')\"\n",
              "              title=\"Convert this dataframe to an interactive table.\"\n",
              "              style=\"display:none;\">\n",
              "        \n",
              "  <svg xmlns=\"http://www.w3.org/2000/svg\" height=\"24px\"viewBox=\"0 0 24 24\"\n",
              "       width=\"24px\">\n",
              "    <path d=\"M0 0h24v24H0V0z\" fill=\"none\"/>\n",
              "    <path d=\"M18.56 5.44l.94 2.06.94-2.06 2.06-.94-2.06-.94-.94-2.06-.94 2.06-2.06.94zm-11 1L8.5 8.5l.94-2.06 2.06-.94-2.06-.94L8.5 2.5l-.94 2.06-2.06.94zm10 10l.94 2.06.94-2.06 2.06-.94-2.06-.94-.94-2.06-.94 2.06-2.06.94z\"/><path d=\"M17.41 7.96l-1.37-1.37c-.4-.4-.92-.59-1.43-.59-.52 0-1.04.2-1.43.59L10.3 9.45l-7.72 7.72c-.78.78-.78 2.05 0 2.83L4 21.41c.39.39.9.59 1.41.59.51 0 1.02-.2 1.41-.59l7.78-7.78 2.81-2.81c.8-.78.8-2.07 0-2.86zM5.41 20L4 18.59l7.72-7.72 1.47 1.35L5.41 20z\"/>\n",
              "  </svg>\n",
              "      </button>\n",
              "      \n",
              "  <style>\n",
              "    .colab-df-container {\n",
              "      display:flex;\n",
              "      flex-wrap:wrap;\n",
              "      gap: 12px;\n",
              "    }\n",
              "\n",
              "    .colab-df-convert {\n",
              "      background-color: #E8F0FE;\n",
              "      border: none;\n",
              "      border-radius: 50%;\n",
              "      cursor: pointer;\n",
              "      display: none;\n",
              "      fill: #1967D2;\n",
              "      height: 32px;\n",
              "      padding: 0 0 0 0;\n",
              "      width: 32px;\n",
              "    }\n",
              "\n",
              "    .colab-df-convert:hover {\n",
              "      background-color: #E2EBFA;\n",
              "      box-shadow: 0px 1px 2px rgba(60, 64, 67, 0.3), 0px 1px 3px 1px rgba(60, 64, 67, 0.15);\n",
              "      fill: #174EA6;\n",
              "    }\n",
              "\n",
              "    [theme=dark] .colab-df-convert {\n",
              "      background-color: #3B4455;\n",
              "      fill: #D2E3FC;\n",
              "    }\n",
              "\n",
              "    [theme=dark] .colab-df-convert:hover {\n",
              "      background-color: #434B5C;\n",
              "      box-shadow: 0px 1px 3px 1px rgba(0, 0, 0, 0.15);\n",
              "      filter: drop-shadow(0px 1px 2px rgba(0, 0, 0, 0.3));\n",
              "      fill: #FFFFFF;\n",
              "    }\n",
              "  </style>\n",
              "\n",
              "      <script>\n",
              "        const buttonEl =\n",
              "          document.querySelector('#df-efebf212-d77d-4167-a84e-509f32131a0e button.colab-df-convert');\n",
              "        buttonEl.style.display =\n",
              "          google.colab.kernel.accessAllowed ? 'block' : 'none';\n",
              "\n",
              "        async function convertToInteractive(key) {\n",
              "          const element = document.querySelector('#df-efebf212-d77d-4167-a84e-509f32131a0e');\n",
              "          const dataTable =\n",
              "            await google.colab.kernel.invokeFunction('convertToInteractive',\n",
              "                                                     [key], {});\n",
              "          if (!dataTable) return;\n",
              "\n",
              "          const docLinkHtml = 'Like what you see? Visit the ' +\n",
              "            '<a target=\"_blank\" href=https://colab.research.google.com/notebooks/data_table.ipynb>data table notebook</a>'\n",
              "            + ' to learn more about interactive tables.';\n",
              "          element.innerHTML = '';\n",
              "          dataTable['output_type'] = 'display_data';\n",
              "          await google.colab.output.renderOutput(dataTable, element);\n",
              "          const docLink = document.createElement('div');\n",
              "          docLink.innerHTML = docLinkHtml;\n",
              "          element.appendChild(docLink);\n",
              "        }\n",
              "      </script>\n",
              "    </div>\n",
              "  </div>\n",
              "  "
            ],
            "text/plain": [
              "  State  Area code International plan Voice mail plan  Churn\n",
              "0    KS        415                 No             Yes  False\n",
              "1    OH        415                 No             Yes  False\n",
              "2    NJ        415                 No              No  False\n",
              "3    OH        408                Yes              No  False\n",
              "4    OK        415                Yes              No  False"
            ]
          },
          "execution_count": 186,
          "metadata": {},
          "output_type": "execute_result"
        }
      ],
      "source": [
        "categorical_data.head()"
      ]
    },
    {
      "cell_type": "code",
      "execution_count": 187,
      "id": "a9xwn-fDTaNi",
      "metadata": {
        "colab": {
          "base_uri": "https://localhost:8080/"
        },
        "id": "a9xwn-fDTaNi",
        "outputId": "b45ae09d-36b7-4137-a95c-6d698839bbbf",
        "scrolled": true
      },
      "outputs": [
        {
          "data": {
            "text/plain": [
              "51"
            ]
          },
          "execution_count": 187,
          "metadata": {},
          "output_type": "execute_result"
        }
      ],
      "source": [
        "len(categorical_data[\"State\"].value_counts())"
      ]
    },
    {
      "cell_type": "code",
      "execution_count": 188,
      "id": "DbAkKFQ8TaNj",
      "metadata": {
        "colab": {
          "base_uri": "https://localhost:8080/"
        },
        "id": "DbAkKFQ8TaNj",
        "outputId": "a72427b3-ceaf-40ef-ff8e-1bb4dea1f10f"
      },
      "outputs": [
        {
          "data": {
            "text/plain": [
              "['State', 'Area code', 'International plan', 'Voice mail plan', 'Churn']"
            ]
          },
          "execution_count": 188,
          "metadata": {},
          "output_type": "execute_result"
        }
      ],
      "source": [
        "list(categorical_data.columns)"
      ]
    },
    {
      "cell_type": "code",
      "execution_count": 189,
      "id": "SaJ37ae0TaNj",
      "metadata": {
        "colab": {
          "base_uri": "https://localhost:8080/",
          "height": 206
        },
        "id": "SaJ37ae0TaNj",
        "outputId": "e8012264-9503-421d-a6db-8482ba92d207"
      },
      "outputs": [
        {
          "data": {
            "text/html": [
              "\n",
              "  <div id=\"df-f890bfe1-c7ee-40a2-82cb-718362bfd397\">\n",
              "    <div class=\"colab-df-container\">\n",
              "      <div>\n",
              "<style scoped>\n",
              "    .dataframe tbody tr th:only-of-type {\n",
              "        vertical-align: middle;\n",
              "    }\n",
              "\n",
              "    .dataframe tbody tr th {\n",
              "        vertical-align: top;\n",
              "    }\n",
              "\n",
              "    .dataframe thead th {\n",
              "        text-align: right;\n",
              "    }\n",
              "</style>\n",
              "<table border=\"1\" class=\"dataframe\">\n",
              "  <thead>\n",
              "    <tr style=\"text-align: right;\">\n",
              "      <th></th>\n",
              "      <th>State</th>\n",
              "      <th>Area code</th>\n",
              "      <th>International plan</th>\n",
              "      <th>Voice mail plan</th>\n",
              "      <th>Churn</th>\n",
              "    </tr>\n",
              "  </thead>\n",
              "  <tbody>\n",
              "    <tr>\n",
              "      <th>0</th>\n",
              "      <td>KS</td>\n",
              "      <td>415</td>\n",
              "      <td>No</td>\n",
              "      <td>Yes</td>\n",
              "      <td>False</td>\n",
              "    </tr>\n",
              "    <tr>\n",
              "      <th>1</th>\n",
              "      <td>OH</td>\n",
              "      <td>415</td>\n",
              "      <td>No</td>\n",
              "      <td>Yes</td>\n",
              "      <td>False</td>\n",
              "    </tr>\n",
              "    <tr>\n",
              "      <th>2</th>\n",
              "      <td>NJ</td>\n",
              "      <td>415</td>\n",
              "      <td>No</td>\n",
              "      <td>No</td>\n",
              "      <td>False</td>\n",
              "    </tr>\n",
              "    <tr>\n",
              "      <th>3</th>\n",
              "      <td>OH</td>\n",
              "      <td>408</td>\n",
              "      <td>Yes</td>\n",
              "      <td>No</td>\n",
              "      <td>False</td>\n",
              "    </tr>\n",
              "    <tr>\n",
              "      <th>4</th>\n",
              "      <td>OK</td>\n",
              "      <td>415</td>\n",
              "      <td>Yes</td>\n",
              "      <td>No</td>\n",
              "      <td>False</td>\n",
              "    </tr>\n",
              "  </tbody>\n",
              "</table>\n",
              "</div>\n",
              "      <button class=\"colab-df-convert\" onclick=\"convertToInteractive('df-f890bfe1-c7ee-40a2-82cb-718362bfd397')\"\n",
              "              title=\"Convert this dataframe to an interactive table.\"\n",
              "              style=\"display:none;\">\n",
              "        \n",
              "  <svg xmlns=\"http://www.w3.org/2000/svg\" height=\"24px\"viewBox=\"0 0 24 24\"\n",
              "       width=\"24px\">\n",
              "    <path d=\"M0 0h24v24H0V0z\" fill=\"none\"/>\n",
              "    <path d=\"M18.56 5.44l.94 2.06.94-2.06 2.06-.94-2.06-.94-.94-2.06-.94 2.06-2.06.94zm-11 1L8.5 8.5l.94-2.06 2.06-.94-2.06-.94L8.5 2.5l-.94 2.06-2.06.94zm10 10l.94 2.06.94-2.06 2.06-.94-2.06-.94-.94-2.06-.94 2.06-2.06.94z\"/><path d=\"M17.41 7.96l-1.37-1.37c-.4-.4-.92-.59-1.43-.59-.52 0-1.04.2-1.43.59L10.3 9.45l-7.72 7.72c-.78.78-.78 2.05 0 2.83L4 21.41c.39.39.9.59 1.41.59.51 0 1.02-.2 1.41-.59l7.78-7.78 2.81-2.81c.8-.78.8-2.07 0-2.86zM5.41 20L4 18.59l7.72-7.72 1.47 1.35L5.41 20z\"/>\n",
              "  </svg>\n",
              "      </button>\n",
              "      \n",
              "  <style>\n",
              "    .colab-df-container {\n",
              "      display:flex;\n",
              "      flex-wrap:wrap;\n",
              "      gap: 12px;\n",
              "    }\n",
              "\n",
              "    .colab-df-convert {\n",
              "      background-color: #E8F0FE;\n",
              "      border: none;\n",
              "      border-radius: 50%;\n",
              "      cursor: pointer;\n",
              "      display: none;\n",
              "      fill: #1967D2;\n",
              "      height: 32px;\n",
              "      padding: 0 0 0 0;\n",
              "      width: 32px;\n",
              "    }\n",
              "\n",
              "    .colab-df-convert:hover {\n",
              "      background-color: #E2EBFA;\n",
              "      box-shadow: 0px 1px 2px rgba(60, 64, 67, 0.3), 0px 1px 3px 1px rgba(60, 64, 67, 0.15);\n",
              "      fill: #174EA6;\n",
              "    }\n",
              "\n",
              "    [theme=dark] .colab-df-convert {\n",
              "      background-color: #3B4455;\n",
              "      fill: #D2E3FC;\n",
              "    }\n",
              "\n",
              "    [theme=dark] .colab-df-convert:hover {\n",
              "      background-color: #434B5C;\n",
              "      box-shadow: 0px 1px 3px 1px rgba(0, 0, 0, 0.15);\n",
              "      filter: drop-shadow(0px 1px 2px rgba(0, 0, 0, 0.3));\n",
              "      fill: #FFFFFF;\n",
              "    }\n",
              "  </style>\n",
              "\n",
              "      <script>\n",
              "        const buttonEl =\n",
              "          document.querySelector('#df-f890bfe1-c7ee-40a2-82cb-718362bfd397 button.colab-df-convert');\n",
              "        buttonEl.style.display =\n",
              "          google.colab.kernel.accessAllowed ? 'block' : 'none';\n",
              "\n",
              "        async function convertToInteractive(key) {\n",
              "          const element = document.querySelector('#df-f890bfe1-c7ee-40a2-82cb-718362bfd397');\n",
              "          const dataTable =\n",
              "            await google.colab.kernel.invokeFunction('convertToInteractive',\n",
              "                                                     [key], {});\n",
              "          if (!dataTable) return;\n",
              "\n",
              "          const docLinkHtml = 'Like what you see? Visit the ' +\n",
              "            '<a target=\"_blank\" href=https://colab.research.google.com/notebooks/data_table.ipynb>data table notebook</a>'\n",
              "            + ' to learn more about interactive tables.';\n",
              "          element.innerHTML = '';\n",
              "          dataTable['output_type'] = 'display_data';\n",
              "          await google.colab.output.renderOutput(dataTable, element);\n",
              "          const docLink = document.createElement('div');\n",
              "          docLink.innerHTML = docLinkHtml;\n",
              "          element.appendChild(docLink);\n",
              "        }\n",
              "      </script>\n",
              "    </div>\n",
              "  </div>\n",
              "  "
            ],
            "text/plain": [
              "  State  Area code International plan Voice mail plan  Churn\n",
              "0    KS        415                 No             Yes  False\n",
              "1    OH        415                 No             Yes  False\n",
              "2    NJ        415                 No              No  False\n",
              "3    OH        408                Yes              No  False\n",
              "4    OK        415                Yes              No  False"
            ]
          },
          "execution_count": 189,
          "metadata": {},
          "output_type": "execute_result"
        }
      ],
      "source": [
        "new_category_data = categorical_data.copy(deep=True)\n",
        "new_category_data.head()"
      ]
    },
    {
      "cell_type": "code",
      "execution_count": 190,
      "id": "8hXZhrfbTaNj",
      "metadata": {
        "id": "8hXZhrfbTaNj"
      },
      "outputs": [],
      "source": [
        "nominal_categories =  ['Area code', 'State']\n",
        "for category in nominal_categories:\n",
        "    nominal_column = categorical_data[category]\n",
        "    nominal_column = nominal_column.reset_index(drop=True)           # otherwise index will become column\n",
        "    dummy_columns = pd.get_dummies(nominal_column.astype(str))       # creating encoded variables\n",
        "    new_category_data.drop(columns=[category], axis=1, inplace=True)   # dropping the actual variable\n",
        "    new_category_data = new_category_data.reset_index(drop=True)         # otherwise index will become column\n",
        "    new_category_data = pd.concat([new_category_data, dummy_columns], axis=1)   # adding newly created encoded variables"
      ]
    },
    {
      "cell_type": "code",
      "execution_count": 191,
      "id": "FuW2rMKFTaNj",
      "metadata": {
        "colab": {
          "base_uri": "https://localhost:8080/",
          "height": 173
        },
        "id": "FuW2rMKFTaNj",
        "outputId": "5cddea8b-1620-4afb-ac3a-ffc8c44e1fdf"
      },
      "outputs": [
        {
          "data": {
            "text/html": [
              "\n",
              "  <div id=\"df-9c483392-5325-4ef0-8b28-1f1ac3e13764\">\n",
              "    <div class=\"colab-df-container\">\n",
              "      <div>\n",
              "<style scoped>\n",
              "    .dataframe tbody tr th:only-of-type {\n",
              "        vertical-align: middle;\n",
              "    }\n",
              "\n",
              "    .dataframe tbody tr th {\n",
              "        vertical-align: top;\n",
              "    }\n",
              "\n",
              "    .dataframe thead th {\n",
              "        text-align: right;\n",
              "    }\n",
              "</style>\n",
              "<table border=\"1\" class=\"dataframe\">\n",
              "  <thead>\n",
              "    <tr style=\"text-align: right;\">\n",
              "      <th></th>\n",
              "      <th>International plan</th>\n",
              "      <th>Voice mail plan</th>\n",
              "      <th>Churn</th>\n",
              "      <th>408</th>\n",
              "      <th>415</th>\n",
              "      <th>510</th>\n",
              "      <th>AK</th>\n",
              "      <th>AL</th>\n",
              "      <th>AR</th>\n",
              "      <th>AZ</th>\n",
              "      <th>...</th>\n",
              "      <th>SD</th>\n",
              "      <th>TN</th>\n",
              "      <th>TX</th>\n",
              "      <th>UT</th>\n",
              "      <th>VA</th>\n",
              "      <th>VT</th>\n",
              "      <th>WA</th>\n",
              "      <th>WI</th>\n",
              "      <th>WV</th>\n",
              "      <th>WY</th>\n",
              "    </tr>\n",
              "  </thead>\n",
              "  <tbody>\n",
              "    <tr>\n",
              "      <th>0</th>\n",
              "      <td>No</td>\n",
              "      <td>Yes</td>\n",
              "      <td>False</td>\n",
              "      <td>0</td>\n",
              "      <td>1</td>\n",
              "      <td>0</td>\n",
              "      <td>0</td>\n",
              "      <td>0</td>\n",
              "      <td>0</td>\n",
              "      <td>0</td>\n",
              "      <td>...</td>\n",
              "      <td>0</td>\n",
              "      <td>0</td>\n",
              "      <td>0</td>\n",
              "      <td>0</td>\n",
              "      <td>0</td>\n",
              "      <td>0</td>\n",
              "      <td>0</td>\n",
              "      <td>0</td>\n",
              "      <td>0</td>\n",
              "      <td>0</td>\n",
              "    </tr>\n",
              "    <tr>\n",
              "      <th>1</th>\n",
              "      <td>No</td>\n",
              "      <td>Yes</td>\n",
              "      <td>False</td>\n",
              "      <td>0</td>\n",
              "      <td>1</td>\n",
              "      <td>0</td>\n",
              "      <td>0</td>\n",
              "      <td>0</td>\n",
              "      <td>0</td>\n",
              "      <td>0</td>\n",
              "      <td>...</td>\n",
              "      <td>0</td>\n",
              "      <td>0</td>\n",
              "      <td>0</td>\n",
              "      <td>0</td>\n",
              "      <td>0</td>\n",
              "      <td>0</td>\n",
              "      <td>0</td>\n",
              "      <td>0</td>\n",
              "      <td>0</td>\n",
              "      <td>0</td>\n",
              "    </tr>\n",
              "    <tr>\n",
              "      <th>2</th>\n",
              "      <td>No</td>\n",
              "      <td>No</td>\n",
              "      <td>False</td>\n",
              "      <td>0</td>\n",
              "      <td>1</td>\n",
              "      <td>0</td>\n",
              "      <td>0</td>\n",
              "      <td>0</td>\n",
              "      <td>0</td>\n",
              "      <td>0</td>\n",
              "      <td>...</td>\n",
              "      <td>0</td>\n",
              "      <td>0</td>\n",
              "      <td>0</td>\n",
              "      <td>0</td>\n",
              "      <td>0</td>\n",
              "      <td>0</td>\n",
              "      <td>0</td>\n",
              "      <td>0</td>\n",
              "      <td>0</td>\n",
              "      <td>0</td>\n",
              "    </tr>\n",
              "  </tbody>\n",
              "</table>\n",
              "<p>3 rows × 57 columns</p>\n",
              "</div>\n",
              "      <button class=\"colab-df-convert\" onclick=\"convertToInteractive('df-9c483392-5325-4ef0-8b28-1f1ac3e13764')\"\n",
              "              title=\"Convert this dataframe to an interactive table.\"\n",
              "              style=\"display:none;\">\n",
              "        \n",
              "  <svg xmlns=\"http://www.w3.org/2000/svg\" height=\"24px\"viewBox=\"0 0 24 24\"\n",
              "       width=\"24px\">\n",
              "    <path d=\"M0 0h24v24H0V0z\" fill=\"none\"/>\n",
              "    <path d=\"M18.56 5.44l.94 2.06.94-2.06 2.06-.94-2.06-.94-.94-2.06-.94 2.06-2.06.94zm-11 1L8.5 8.5l.94-2.06 2.06-.94-2.06-.94L8.5 2.5l-.94 2.06-2.06.94zm10 10l.94 2.06.94-2.06 2.06-.94-2.06-.94-.94-2.06-.94 2.06-2.06.94z\"/><path d=\"M17.41 7.96l-1.37-1.37c-.4-.4-.92-.59-1.43-.59-.52 0-1.04.2-1.43.59L10.3 9.45l-7.72 7.72c-.78.78-.78 2.05 0 2.83L4 21.41c.39.39.9.59 1.41.59.51 0 1.02-.2 1.41-.59l7.78-7.78 2.81-2.81c.8-.78.8-2.07 0-2.86zM5.41 20L4 18.59l7.72-7.72 1.47 1.35L5.41 20z\"/>\n",
              "  </svg>\n",
              "      </button>\n",
              "      \n",
              "  <style>\n",
              "    .colab-df-container {\n",
              "      display:flex;\n",
              "      flex-wrap:wrap;\n",
              "      gap: 12px;\n",
              "    }\n",
              "\n",
              "    .colab-df-convert {\n",
              "      background-color: #E8F0FE;\n",
              "      border: none;\n",
              "      border-radius: 50%;\n",
              "      cursor: pointer;\n",
              "      display: none;\n",
              "      fill: #1967D2;\n",
              "      height: 32px;\n",
              "      padding: 0 0 0 0;\n",
              "      width: 32px;\n",
              "    }\n",
              "\n",
              "    .colab-df-convert:hover {\n",
              "      background-color: #E2EBFA;\n",
              "      box-shadow: 0px 1px 2px rgba(60, 64, 67, 0.3), 0px 1px 3px 1px rgba(60, 64, 67, 0.15);\n",
              "      fill: #174EA6;\n",
              "    }\n",
              "\n",
              "    [theme=dark] .colab-df-convert {\n",
              "      background-color: #3B4455;\n",
              "      fill: #D2E3FC;\n",
              "    }\n",
              "\n",
              "    [theme=dark] .colab-df-convert:hover {\n",
              "      background-color: #434B5C;\n",
              "      box-shadow: 0px 1px 3px 1px rgba(0, 0, 0, 0.15);\n",
              "      filter: drop-shadow(0px 1px 2px rgba(0, 0, 0, 0.3));\n",
              "      fill: #FFFFFF;\n",
              "    }\n",
              "  </style>\n",
              "\n",
              "      <script>\n",
              "        const buttonEl =\n",
              "          document.querySelector('#df-9c483392-5325-4ef0-8b28-1f1ac3e13764 button.colab-df-convert');\n",
              "        buttonEl.style.display =\n",
              "          google.colab.kernel.accessAllowed ? 'block' : 'none';\n",
              "\n",
              "        async function convertToInteractive(key) {\n",
              "          const element = document.querySelector('#df-9c483392-5325-4ef0-8b28-1f1ac3e13764');\n",
              "          const dataTable =\n",
              "            await google.colab.kernel.invokeFunction('convertToInteractive',\n",
              "                                                     [key], {});\n",
              "          if (!dataTable) return;\n",
              "\n",
              "          const docLinkHtml = 'Like what you see? Visit the ' +\n",
              "            '<a target=\"_blank\" href=https://colab.research.google.com/notebooks/data_table.ipynb>data table notebook</a>'\n",
              "            + ' to learn more about interactive tables.';\n",
              "          element.innerHTML = '';\n",
              "          dataTable['output_type'] = 'display_data';\n",
              "          await google.colab.output.renderOutput(dataTable, element);\n",
              "          const docLink = document.createElement('div');\n",
              "          docLink.innerHTML = docLinkHtml;\n",
              "          element.appendChild(docLink);\n",
              "        }\n",
              "      </script>\n",
              "    </div>\n",
              "  </div>\n",
              "  "
            ],
            "text/plain": [
              "  International plan Voice mail plan  Churn  408  415  510  AK  AL  AR  AZ  \\\n",
              "0                 No             Yes  False    0    1    0   0   0   0   0   \n",
              "1                 No             Yes  False    0    1    0   0   0   0   0   \n",
              "2                 No              No  False    0    1    0   0   0   0   0   \n",
              "\n",
              "   ...  SD  TN  TX  UT  VA  VT  WA  WI  WV  WY  \n",
              "0  ...   0   0   0   0   0   0   0   0   0   0  \n",
              "1  ...   0   0   0   0   0   0   0   0   0   0  \n",
              "2  ...   0   0   0   0   0   0   0   0   0   0  \n",
              "\n",
              "[3 rows x 57 columns]"
            ]
          },
          "execution_count": 191,
          "metadata": {},
          "output_type": "execute_result"
        }
      ],
      "source": [
        "new_category_data.head(3)"
      ]
    },
    {
      "cell_type": "markdown",
      "id": "Py75VtN0TaNk",
      "metadata": {
        "id": "Py75VtN0TaNk"
      },
      "source": [
        "# Label encoding ordinal values"
      ]
    },
    {
      "cell_type": "code",
      "execution_count": 192,
      "id": "lt4vt32gTaNk",
      "metadata": {
        "id": "lt4vt32gTaNk"
      },
      "outputs": [],
      "source": [
        "# For all ordinal variables\n",
        "intl_plan = {\"International plan\":{\"No\": 0, \"Yes\": 1}}\n",
        "new_category_data = new_category_data.replace(intl_plan)            # will replace no with 0 and yes with 1\n",
        "             \n",
        "vm_plan = {\"Voice mail plan\":{\"No\": 0, \"Yes\": 1}}\n",
        "new_category_data = new_category_data.replace(vm_plan)\n",
        "\n",
        "churn = {\"Churn\":{False: 0, True: 1}}\n",
        "new_category_data = new_category_data.replace(churn)"
      ]
    },
    {
      "cell_type": "code",
      "execution_count": 193,
      "id": "OklXYFQUTaNk",
      "metadata": {
        "colab": {
          "base_uri": "https://localhost:8080/",
          "height": 173
        },
        "id": "OklXYFQUTaNk",
        "outputId": "c33a9b26-4c17-49e4-b208-cbfbfc3f7e22"
      },
      "outputs": [
        {
          "data": {
            "text/html": [
              "\n",
              "  <div id=\"df-dd68e578-5f49-46f2-83d1-b7c07bfdda48\">\n",
              "    <div class=\"colab-df-container\">\n",
              "      <div>\n",
              "<style scoped>\n",
              "    .dataframe tbody tr th:only-of-type {\n",
              "        vertical-align: middle;\n",
              "    }\n",
              "\n",
              "    .dataframe tbody tr th {\n",
              "        vertical-align: top;\n",
              "    }\n",
              "\n",
              "    .dataframe thead th {\n",
              "        text-align: right;\n",
              "    }\n",
              "</style>\n",
              "<table border=\"1\" class=\"dataframe\">\n",
              "  <thead>\n",
              "    <tr style=\"text-align: right;\">\n",
              "      <th></th>\n",
              "      <th>International plan</th>\n",
              "      <th>Voice mail plan</th>\n",
              "      <th>Churn</th>\n",
              "      <th>408</th>\n",
              "      <th>415</th>\n",
              "      <th>510</th>\n",
              "      <th>AK</th>\n",
              "      <th>AL</th>\n",
              "      <th>AR</th>\n",
              "      <th>AZ</th>\n",
              "      <th>...</th>\n",
              "      <th>SD</th>\n",
              "      <th>TN</th>\n",
              "      <th>TX</th>\n",
              "      <th>UT</th>\n",
              "      <th>VA</th>\n",
              "      <th>VT</th>\n",
              "      <th>WA</th>\n",
              "      <th>WI</th>\n",
              "      <th>WV</th>\n",
              "      <th>WY</th>\n",
              "    </tr>\n",
              "  </thead>\n",
              "  <tbody>\n",
              "    <tr>\n",
              "      <th>0</th>\n",
              "      <td>0</td>\n",
              "      <td>1</td>\n",
              "      <td>0</td>\n",
              "      <td>0</td>\n",
              "      <td>1</td>\n",
              "      <td>0</td>\n",
              "      <td>0</td>\n",
              "      <td>0</td>\n",
              "      <td>0</td>\n",
              "      <td>0</td>\n",
              "      <td>...</td>\n",
              "      <td>0</td>\n",
              "      <td>0</td>\n",
              "      <td>0</td>\n",
              "      <td>0</td>\n",
              "      <td>0</td>\n",
              "      <td>0</td>\n",
              "      <td>0</td>\n",
              "      <td>0</td>\n",
              "      <td>0</td>\n",
              "      <td>0</td>\n",
              "    </tr>\n",
              "    <tr>\n",
              "      <th>1</th>\n",
              "      <td>0</td>\n",
              "      <td>1</td>\n",
              "      <td>0</td>\n",
              "      <td>0</td>\n",
              "      <td>1</td>\n",
              "      <td>0</td>\n",
              "      <td>0</td>\n",
              "      <td>0</td>\n",
              "      <td>0</td>\n",
              "      <td>0</td>\n",
              "      <td>...</td>\n",
              "      <td>0</td>\n",
              "      <td>0</td>\n",
              "      <td>0</td>\n",
              "      <td>0</td>\n",
              "      <td>0</td>\n",
              "      <td>0</td>\n",
              "      <td>0</td>\n",
              "      <td>0</td>\n",
              "      <td>0</td>\n",
              "      <td>0</td>\n",
              "    </tr>\n",
              "    <tr>\n",
              "      <th>2</th>\n",
              "      <td>0</td>\n",
              "      <td>0</td>\n",
              "      <td>0</td>\n",
              "      <td>0</td>\n",
              "      <td>1</td>\n",
              "      <td>0</td>\n",
              "      <td>0</td>\n",
              "      <td>0</td>\n",
              "      <td>0</td>\n",
              "      <td>0</td>\n",
              "      <td>...</td>\n",
              "      <td>0</td>\n",
              "      <td>0</td>\n",
              "      <td>0</td>\n",
              "      <td>0</td>\n",
              "      <td>0</td>\n",
              "      <td>0</td>\n",
              "      <td>0</td>\n",
              "      <td>0</td>\n",
              "      <td>0</td>\n",
              "      <td>0</td>\n",
              "    </tr>\n",
              "  </tbody>\n",
              "</table>\n",
              "<p>3 rows × 57 columns</p>\n",
              "</div>\n",
              "      <button class=\"colab-df-convert\" onclick=\"convertToInteractive('df-dd68e578-5f49-46f2-83d1-b7c07bfdda48')\"\n",
              "              title=\"Convert this dataframe to an interactive table.\"\n",
              "              style=\"display:none;\">\n",
              "        \n",
              "  <svg xmlns=\"http://www.w3.org/2000/svg\" height=\"24px\"viewBox=\"0 0 24 24\"\n",
              "       width=\"24px\">\n",
              "    <path d=\"M0 0h24v24H0V0z\" fill=\"none\"/>\n",
              "    <path d=\"M18.56 5.44l.94 2.06.94-2.06 2.06-.94-2.06-.94-.94-2.06-.94 2.06-2.06.94zm-11 1L8.5 8.5l.94-2.06 2.06-.94-2.06-.94L8.5 2.5l-.94 2.06-2.06.94zm10 10l.94 2.06.94-2.06 2.06-.94-2.06-.94-.94-2.06-.94 2.06-2.06.94z\"/><path d=\"M17.41 7.96l-1.37-1.37c-.4-.4-.92-.59-1.43-.59-.52 0-1.04.2-1.43.59L10.3 9.45l-7.72 7.72c-.78.78-.78 2.05 0 2.83L4 21.41c.39.39.9.59 1.41.59.51 0 1.02-.2 1.41-.59l7.78-7.78 2.81-2.81c.8-.78.8-2.07 0-2.86zM5.41 20L4 18.59l7.72-7.72 1.47 1.35L5.41 20z\"/>\n",
              "  </svg>\n",
              "      </button>\n",
              "      \n",
              "  <style>\n",
              "    .colab-df-container {\n",
              "      display:flex;\n",
              "      flex-wrap:wrap;\n",
              "      gap: 12px;\n",
              "    }\n",
              "\n",
              "    .colab-df-convert {\n",
              "      background-color: #E8F0FE;\n",
              "      border: none;\n",
              "      border-radius: 50%;\n",
              "      cursor: pointer;\n",
              "      display: none;\n",
              "      fill: #1967D2;\n",
              "      height: 32px;\n",
              "      padding: 0 0 0 0;\n",
              "      width: 32px;\n",
              "    }\n",
              "\n",
              "    .colab-df-convert:hover {\n",
              "      background-color: #E2EBFA;\n",
              "      box-shadow: 0px 1px 2px rgba(60, 64, 67, 0.3), 0px 1px 3px 1px rgba(60, 64, 67, 0.15);\n",
              "      fill: #174EA6;\n",
              "    }\n",
              "\n",
              "    [theme=dark] .colab-df-convert {\n",
              "      background-color: #3B4455;\n",
              "      fill: #D2E3FC;\n",
              "    }\n",
              "\n",
              "    [theme=dark] .colab-df-convert:hover {\n",
              "      background-color: #434B5C;\n",
              "      box-shadow: 0px 1px 3px 1px rgba(0, 0, 0, 0.15);\n",
              "      filter: drop-shadow(0px 1px 2px rgba(0, 0, 0, 0.3));\n",
              "      fill: #FFFFFF;\n",
              "    }\n",
              "  </style>\n",
              "\n",
              "      <script>\n",
              "        const buttonEl =\n",
              "          document.querySelector('#df-dd68e578-5f49-46f2-83d1-b7c07bfdda48 button.colab-df-convert');\n",
              "        buttonEl.style.display =\n",
              "          google.colab.kernel.accessAllowed ? 'block' : 'none';\n",
              "\n",
              "        async function convertToInteractive(key) {\n",
              "          const element = document.querySelector('#df-dd68e578-5f49-46f2-83d1-b7c07bfdda48');\n",
              "          const dataTable =\n",
              "            await google.colab.kernel.invokeFunction('convertToInteractive',\n",
              "                                                     [key], {});\n",
              "          if (!dataTable) return;\n",
              "\n",
              "          const docLinkHtml = 'Like what you see? Visit the ' +\n",
              "            '<a target=\"_blank\" href=https://colab.research.google.com/notebooks/data_table.ipynb>data table notebook</a>'\n",
              "            + ' to learn more about interactive tables.';\n",
              "          element.innerHTML = '';\n",
              "          dataTable['output_type'] = 'display_data';\n",
              "          await google.colab.output.renderOutput(dataTable, element);\n",
              "          const docLink = document.createElement('div');\n",
              "          docLink.innerHTML = docLinkHtml;\n",
              "          element.appendChild(docLink);\n",
              "        }\n",
              "      </script>\n",
              "    </div>\n",
              "  </div>\n",
              "  "
            ],
            "text/plain": [
              "   International plan  Voice mail plan  Churn  408  415  510  AK  AL  AR  AZ  \\\n",
              "0                   0                1      0    0    1    0   0   0   0   0   \n",
              "1                   0                1      0    0    1    0   0   0   0   0   \n",
              "2                   0                0      0    0    1    0   0   0   0   0   \n",
              "\n",
              "   ...  SD  TN  TX  UT  VA  VT  WA  WI  WV  WY  \n",
              "0  ...   0   0   0   0   0   0   0   0   0   0  \n",
              "1  ...   0   0   0   0   0   0   0   0   0   0  \n",
              "2  ...   0   0   0   0   0   0   0   0   0   0  \n",
              "\n",
              "[3 rows x 57 columns]"
            ]
          },
          "execution_count": 193,
          "metadata": {},
          "output_type": "execute_result"
        }
      ],
      "source": [
        "new_category_data.head(3)"
      ]
    },
    {
      "cell_type": "code",
      "execution_count": null,
      "id": "BgDUlSo1TaNl",
      "metadata": {
        "id": "BgDUlSo1TaNl"
      },
      "outputs": [],
      "source": []
    },
    {
      "cell_type": "markdown",
      "id": "aOpjheR_TaNl",
      "metadata": {
        "id": "aOpjheR_TaNl"
      },
      "source": [
        "# Combining numeric and categorical columns"
      ]
    },
    {
      "cell_type": "code",
      "execution_count": 194,
      "id": "OI8a2uegTaNl",
      "metadata": {
        "colab": {
          "base_uri": "https://localhost:8080/",
          "height": 234
        },
        "id": "OI8a2uegTaNl",
        "outputId": "2a9642a4-1931-451d-e94f-95870eeadff6"
      },
      "outputs": [
        {
          "data": {
            "text/html": [
              "\n",
              "  <div id=\"df-662105db-0ae4-4306-bf2f-8ec453302643\">\n",
              "    <div class=\"colab-df-container\">\n",
              "      <div>\n",
              "<style scoped>\n",
              "    .dataframe tbody tr th:only-of-type {\n",
              "        vertical-align: middle;\n",
              "    }\n",
              "\n",
              "    .dataframe tbody tr th {\n",
              "        vertical-align: top;\n",
              "    }\n",
              "\n",
              "    .dataframe thead th {\n",
              "        text-align: right;\n",
              "    }\n",
              "</style>\n",
              "<table border=\"1\" class=\"dataframe\">\n",
              "  <thead>\n",
              "    <tr style=\"text-align: right;\">\n",
              "      <th></th>\n",
              "      <th>Account length</th>\n",
              "      <th>Number vmail messages</th>\n",
              "      <th>Total day calls</th>\n",
              "      <th>Total day charge</th>\n",
              "      <th>Total eve calls</th>\n",
              "      <th>Total eve charge</th>\n",
              "      <th>Total night calls</th>\n",
              "      <th>Total night charge</th>\n",
              "      <th>Total intl calls</th>\n",
              "      <th>Total intl charge</th>\n",
              "      <th>...</th>\n",
              "      <th>SD</th>\n",
              "      <th>TN</th>\n",
              "      <th>TX</th>\n",
              "      <th>UT</th>\n",
              "      <th>VA</th>\n",
              "      <th>VT</th>\n",
              "      <th>WA</th>\n",
              "      <th>WI</th>\n",
              "      <th>WV</th>\n",
              "      <th>WY</th>\n",
              "    </tr>\n",
              "  </thead>\n",
              "  <tbody>\n",
              "    <tr>\n",
              "      <th>0</th>\n",
              "      <td>0.676489</td>\n",
              "      <td>1.234883</td>\n",
              "      <td>0.476643</td>\n",
              "      <td>1.567036</td>\n",
              "      <td>-0.055940</td>\n",
              "      <td>-0.070427</td>\n",
              "      <td>-0.465494</td>\n",
              "      <td>0.866029</td>\n",
              "      <td>-0.601195</td>\n",
              "      <td>-0.085690</td>\n",
              "      <td>...</td>\n",
              "      <td>0</td>\n",
              "      <td>0</td>\n",
              "      <td>0</td>\n",
              "      <td>0</td>\n",
              "      <td>0</td>\n",
              "      <td>0</td>\n",
              "      <td>0</td>\n",
              "      <td>0</td>\n",
              "      <td>0</td>\n",
              "      <td>0</td>\n",
              "    </tr>\n",
              "    <tr>\n",
              "      <th>1</th>\n",
              "      <td>0.149065</td>\n",
              "      <td>1.307948</td>\n",
              "      <td>1.124503</td>\n",
              "      <td>-0.334013</td>\n",
              "      <td>0.144867</td>\n",
              "      <td>-0.107549</td>\n",
              "      <td>0.147825</td>\n",
              "      <td>1.059390</td>\n",
              "      <td>-0.601195</td>\n",
              "      <td>1.241169</td>\n",
              "      <td>...</td>\n",
              "      <td>0</td>\n",
              "      <td>0</td>\n",
              "      <td>0</td>\n",
              "      <td>0</td>\n",
              "      <td>0</td>\n",
              "      <td>0</td>\n",
              "      <td>0</td>\n",
              "      <td>0</td>\n",
              "      <td>0</td>\n",
              "      <td>0</td>\n",
              "    </tr>\n",
              "    <tr>\n",
              "      <th>2</th>\n",
              "      <td>0.902529</td>\n",
              "      <td>-0.591760</td>\n",
              "      <td>0.675985</td>\n",
              "      <td>1.168464</td>\n",
              "      <td>0.496279</td>\n",
              "      <td>-1.573900</td>\n",
              "      <td>0.198935</td>\n",
              "      <td>-0.755571</td>\n",
              "      <td>0.211534</td>\n",
              "      <td>0.697156</td>\n",
              "      <td>...</td>\n",
              "      <td>0</td>\n",
              "      <td>0</td>\n",
              "      <td>0</td>\n",
              "      <td>0</td>\n",
              "      <td>0</td>\n",
              "      <td>0</td>\n",
              "      <td>0</td>\n",
              "      <td>0</td>\n",
              "      <td>0</td>\n",
              "      <td>0</td>\n",
              "    </tr>\n",
              "  </tbody>\n",
              "</table>\n",
              "<p>3 rows × 68 columns</p>\n",
              "</div>\n",
              "      <button class=\"colab-df-convert\" onclick=\"convertToInteractive('df-662105db-0ae4-4306-bf2f-8ec453302643')\"\n",
              "              title=\"Convert this dataframe to an interactive table.\"\n",
              "              style=\"display:none;\">\n",
              "        \n",
              "  <svg xmlns=\"http://www.w3.org/2000/svg\" height=\"24px\"viewBox=\"0 0 24 24\"\n",
              "       width=\"24px\">\n",
              "    <path d=\"M0 0h24v24H0V0z\" fill=\"none\"/>\n",
              "    <path d=\"M18.56 5.44l.94 2.06.94-2.06 2.06-.94-2.06-.94-.94-2.06-.94 2.06-2.06.94zm-11 1L8.5 8.5l.94-2.06 2.06-.94-2.06-.94L8.5 2.5l-.94 2.06-2.06.94zm10 10l.94 2.06.94-2.06 2.06-.94-2.06-.94-.94-2.06-.94 2.06-2.06.94z\"/><path d=\"M17.41 7.96l-1.37-1.37c-.4-.4-.92-.59-1.43-.59-.52 0-1.04.2-1.43.59L10.3 9.45l-7.72 7.72c-.78.78-.78 2.05 0 2.83L4 21.41c.39.39.9.59 1.41.59.51 0 1.02-.2 1.41-.59l7.78-7.78 2.81-2.81c.8-.78.8-2.07 0-2.86zM5.41 20L4 18.59l7.72-7.72 1.47 1.35L5.41 20z\"/>\n",
              "  </svg>\n",
              "      </button>\n",
              "      \n",
              "  <style>\n",
              "    .colab-df-container {\n",
              "      display:flex;\n",
              "      flex-wrap:wrap;\n",
              "      gap: 12px;\n",
              "    }\n",
              "\n",
              "    .colab-df-convert {\n",
              "      background-color: #E8F0FE;\n",
              "      border: none;\n",
              "      border-radius: 50%;\n",
              "      cursor: pointer;\n",
              "      display: none;\n",
              "      fill: #1967D2;\n",
              "      height: 32px;\n",
              "      padding: 0 0 0 0;\n",
              "      width: 32px;\n",
              "    }\n",
              "\n",
              "    .colab-df-convert:hover {\n",
              "      background-color: #E2EBFA;\n",
              "      box-shadow: 0px 1px 2px rgba(60, 64, 67, 0.3), 0px 1px 3px 1px rgba(60, 64, 67, 0.15);\n",
              "      fill: #174EA6;\n",
              "    }\n",
              "\n",
              "    [theme=dark] .colab-df-convert {\n",
              "      background-color: #3B4455;\n",
              "      fill: #D2E3FC;\n",
              "    }\n",
              "\n",
              "    [theme=dark] .colab-df-convert:hover {\n",
              "      background-color: #434B5C;\n",
              "      box-shadow: 0px 1px 3px 1px rgba(0, 0, 0, 0.15);\n",
              "      filter: drop-shadow(0px 1px 2px rgba(0, 0, 0, 0.3));\n",
              "      fill: #FFFFFF;\n",
              "    }\n",
              "  </style>\n",
              "\n",
              "      <script>\n",
              "        const buttonEl =\n",
              "          document.querySelector('#df-662105db-0ae4-4306-bf2f-8ec453302643 button.colab-df-convert');\n",
              "        buttonEl.style.display =\n",
              "          google.colab.kernel.accessAllowed ? 'block' : 'none';\n",
              "\n",
              "        async function convertToInteractive(key) {\n",
              "          const element = document.querySelector('#df-662105db-0ae4-4306-bf2f-8ec453302643');\n",
              "          const dataTable =\n",
              "            await google.colab.kernel.invokeFunction('convertToInteractive',\n",
              "                                                     [key], {});\n",
              "          if (!dataTable) return;\n",
              "\n",
              "          const docLinkHtml = 'Like what you see? Visit the ' +\n",
              "            '<a target=\"_blank\" href=https://colab.research.google.com/notebooks/data_table.ipynb>data table notebook</a>'\n",
              "            + ' to learn more about interactive tables.';\n",
              "          element.innerHTML = '';\n",
              "          dataTable['output_type'] = 'display_data';\n",
              "          await google.colab.output.renderOutput(dataTable, element);\n",
              "          const docLink = document.createElement('div');\n",
              "          docLink.innerHTML = docLinkHtml;\n",
              "          element.appendChild(docLink);\n",
              "        }\n",
              "      </script>\n",
              "    </div>\n",
              "  </div>\n",
              "  "
            ],
            "text/plain": [
              "   Account length  Number vmail messages  Total day calls  Total day charge  \\\n",
              "0        0.676489               1.234883         0.476643          1.567036   \n",
              "1        0.149065               1.307948         1.124503         -0.334013   \n",
              "2        0.902529              -0.591760         0.675985          1.168464   \n",
              "\n",
              "   Total eve calls  Total eve charge  Total night calls  Total night charge  \\\n",
              "0        -0.055940         -0.070427          -0.465494            0.866029   \n",
              "1         0.144867         -0.107549           0.147825            1.059390   \n",
              "2         0.496279         -1.573900           0.198935           -0.755571   \n",
              "\n",
              "   Total intl calls  Total intl charge  ...  SD  TN  TX  UT  VA  VT  WA  WI  \\\n",
              "0         -0.601195          -0.085690  ...   0   0   0   0   0   0   0   0   \n",
              "1         -0.601195           1.241169  ...   0   0   0   0   0   0   0   0   \n",
              "2          0.211534           0.697156  ...   0   0   0   0   0   0   0   0   \n",
              "\n",
              "   WV  WY  \n",
              "0   0   0  \n",
              "1   0   0  \n",
              "2   0   0  \n",
              "\n",
              "[3 rows x 68 columns]"
            ]
          },
          "execution_count": 194,
          "metadata": {},
          "output_type": "execute_result"
        }
      ],
      "source": [
        "new_category_data = new_category_data.reset_index(drop=True)                   # otherwise index will become column\n",
        "\n",
        "final_data = pd.concat([numeric_data, new_category_data], axis=1)             # combining numeric and categorical columns\n",
        "\n",
        "final_data.head(3)"
      ]
    },
    {
      "cell_type": "code",
      "execution_count": 195,
      "id": "3-iKBQSGTaNl",
      "metadata": {
        "colab": {
          "base_uri": "https://localhost:8080/"
        },
        "id": "3-iKBQSGTaNl",
        "outputId": "64e29919-8d7b-43bf-f20b-54befc5f4a94"
      },
      "outputs": [
        {
          "data": {
            "text/plain": [
              "(3333, 68)"
            ]
          },
          "execution_count": 195,
          "metadata": {},
          "output_type": "execute_result"
        }
      ],
      "source": [
        "final_data.shape"
      ]
    },
    {
      "cell_type": "code",
      "execution_count": null,
      "id": "AFP5wYpVZbvE",
      "metadata": {
        "id": "AFP5wYpVZbvE"
      },
      "outputs": [],
      "source": []
    },
    {
      "cell_type": "markdown",
      "id": "ASmISMP1Zcum",
      "metadata": {
        "id": "ASmISMP1Zcum"
      },
      "source": [
        "# Train - Test Split :-"
      ]
    },
    {
      "cell_type": "markdown",
      "id": "XYaWzHuEaDIF",
      "metadata": {
        "id": "XYaWzHuEaDIF"
      },
      "source": [
        "#### For the split, we will first shuffle the data so that we can get random sample and then we will split it in almost 70:30 train-test ratio."
      ]
    },
    {
      "cell_type": "code",
      "execution_count": 196,
      "id": "G-LTAbnCTaNm",
      "metadata": {
        "id": "G-LTAbnCTaNm"
      },
      "outputs": [],
      "source": [
        "# shuffling the dataset\n",
        "final_data = final_data.sample(n=len(final_data), random_state = 28)"
      ]
    },
    {
      "cell_type": "code",
      "execution_count": 197,
      "id": "Yj8UhYNhaHrk",
      "metadata": {
        "colab": {
          "base_uri": "https://localhost:8080/",
          "height": 297
        },
        "id": "Yj8UhYNhaHrk",
        "outputId": "37b2a1c1-bc0e-48cc-fe1c-0d3c2b9e94e8"
      },
      "outputs": [
        {
          "data": {
            "text/html": [
              "\n",
              "  <div id=\"df-c6ea35f4-6e68-46a2-bf24-74fe28065770\">\n",
              "    <div class=\"colab-df-container\">\n",
              "      <div>\n",
              "<style scoped>\n",
              "    .dataframe tbody tr th:only-of-type {\n",
              "        vertical-align: middle;\n",
              "    }\n",
              "\n",
              "    .dataframe tbody tr th {\n",
              "        vertical-align: top;\n",
              "    }\n",
              "\n",
              "    .dataframe thead th {\n",
              "        text-align: right;\n",
              "    }\n",
              "</style>\n",
              "<table border=\"1\" class=\"dataframe\">\n",
              "  <thead>\n",
              "    <tr style=\"text-align: right;\">\n",
              "      <th></th>\n",
              "      <th>Account length</th>\n",
              "      <th>Number vmail messages</th>\n",
              "      <th>Total day calls</th>\n",
              "      <th>Total day charge</th>\n",
              "      <th>Total eve calls</th>\n",
              "      <th>Total eve charge</th>\n",
              "      <th>Total night calls</th>\n",
              "      <th>Total night charge</th>\n",
              "      <th>Total intl calls</th>\n",
              "      <th>Total intl charge</th>\n",
              "      <th>...</th>\n",
              "      <th>SD</th>\n",
              "      <th>TN</th>\n",
              "      <th>TX</th>\n",
              "      <th>UT</th>\n",
              "      <th>VA</th>\n",
              "      <th>VT</th>\n",
              "      <th>WA</th>\n",
              "      <th>WI</th>\n",
              "      <th>WV</th>\n",
              "      <th>WY</th>\n",
              "    </tr>\n",
              "  </thead>\n",
              "  <tbody>\n",
              "    <tr>\n",
              "      <th>2281</th>\n",
              "      <td>0.149065</td>\n",
              "      <td>2.184737</td>\n",
              "      <td>-2.164631</td>\n",
              "      <td>0.448010</td>\n",
              "      <td>-0.407352</td>\n",
              "      <td>0.096626</td>\n",
              "      <td>-1.027703</td>\n",
              "      <td>1.692209</td>\n",
              "      <td>-0.194831</td>\n",
              "      <td>-0.696046</td>\n",
              "      <td>...</td>\n",
              "      <td>0</td>\n",
              "      <td>0</td>\n",
              "      <td>0</td>\n",
              "      <td>0</td>\n",
              "      <td>0</td>\n",
              "      <td>0</td>\n",
              "      <td>0</td>\n",
              "      <td>0</td>\n",
              "      <td>0</td>\n",
              "      <td>0</td>\n",
              "    </tr>\n",
              "    <tr>\n",
              "      <th>1503</th>\n",
              "      <td>-1.106707</td>\n",
              "      <td>0.650357</td>\n",
              "      <td>-0.320723</td>\n",
              "      <td>1.042087</td>\n",
              "      <td>-0.306949</td>\n",
              "      <td>-0.747918</td>\n",
              "      <td>0.863364</td>\n",
              "      <td>0.707824</td>\n",
              "      <td>-0.601195</td>\n",
              "      <td>0.697156</td>\n",
              "      <td>...</td>\n",
              "      <td>0</td>\n",
              "      <td>0</td>\n",
              "      <td>0</td>\n",
              "      <td>0</td>\n",
              "      <td>0</td>\n",
              "      <td>0</td>\n",
              "      <td>0</td>\n",
              "      <td>0</td>\n",
              "      <td>1</td>\n",
              "      <td>0</td>\n",
              "    </tr>\n",
              "    <tr>\n",
              "      <th>1987</th>\n",
              "      <td>-1.056476</td>\n",
              "      <td>-0.591760</td>\n",
              "      <td>-0.221052</td>\n",
              "      <td>-0.371818</td>\n",
              "      <td>1.148901</td>\n",
              "      <td>-0.666711</td>\n",
              "      <td>0.301154</td>\n",
              "      <td>-1.230185</td>\n",
              "      <td>-0.194831</td>\n",
              "      <td>-0.019348</td>\n",
              "      <td>...</td>\n",
              "      <td>0</td>\n",
              "      <td>0</td>\n",
              "      <td>0</td>\n",
              "      <td>0</td>\n",
              "      <td>0</td>\n",
              "      <td>0</td>\n",
              "      <td>0</td>\n",
              "      <td>0</td>\n",
              "      <td>0</td>\n",
              "      <td>0</td>\n",
              "    </tr>\n",
              "    <tr>\n",
              "      <th>2310</th>\n",
              "      <td>1.178798</td>\n",
              "      <td>1.234883</td>\n",
              "      <td>0.077960</td>\n",
              "      <td>0.935153</td>\n",
              "      <td>0.446077</td>\n",
              "      <td>0.646507</td>\n",
              "      <td>-0.516604</td>\n",
              "      <td>0.294733</td>\n",
              "      <td>-1.007560</td>\n",
              "      <td>1.174826</td>\n",
              "      <td>...</td>\n",
              "      <td>0</td>\n",
              "      <td>0</td>\n",
              "      <td>0</td>\n",
              "      <td>0</td>\n",
              "      <td>0</td>\n",
              "      <td>0</td>\n",
              "      <td>0</td>\n",
              "      <td>0</td>\n",
              "      <td>0</td>\n",
              "      <td>0</td>\n",
              "    </tr>\n",
              "    <tr>\n",
              "      <th>2042</th>\n",
              "      <td>-1.257400</td>\n",
              "      <td>1.307948</td>\n",
              "      <td>-1.965290</td>\n",
              "      <td>1.047488</td>\n",
              "      <td>-0.156344</td>\n",
              "      <td>1.231191</td>\n",
              "      <td>-0.465494</td>\n",
              "      <td>-0.390821</td>\n",
              "      <td>1.430627</td>\n",
              "      <td>0.338904</td>\n",
              "      <td>...</td>\n",
              "      <td>0</td>\n",
              "      <td>0</td>\n",
              "      <td>0</td>\n",
              "      <td>0</td>\n",
              "      <td>0</td>\n",
              "      <td>0</td>\n",
              "      <td>0</td>\n",
              "      <td>0</td>\n",
              "      <td>0</td>\n",
              "      <td>0</td>\n",
              "    </tr>\n",
              "  </tbody>\n",
              "</table>\n",
              "<p>5 rows × 68 columns</p>\n",
              "</div>\n",
              "      <button class=\"colab-df-convert\" onclick=\"convertToInteractive('df-c6ea35f4-6e68-46a2-bf24-74fe28065770')\"\n",
              "              title=\"Convert this dataframe to an interactive table.\"\n",
              "              style=\"display:none;\">\n",
              "        \n",
              "  <svg xmlns=\"http://www.w3.org/2000/svg\" height=\"24px\"viewBox=\"0 0 24 24\"\n",
              "       width=\"24px\">\n",
              "    <path d=\"M0 0h24v24H0V0z\" fill=\"none\"/>\n",
              "    <path d=\"M18.56 5.44l.94 2.06.94-2.06 2.06-.94-2.06-.94-.94-2.06-.94 2.06-2.06.94zm-11 1L8.5 8.5l.94-2.06 2.06-.94-2.06-.94L8.5 2.5l-.94 2.06-2.06.94zm10 10l.94 2.06.94-2.06 2.06-.94-2.06-.94-.94-2.06-.94 2.06-2.06.94z\"/><path d=\"M17.41 7.96l-1.37-1.37c-.4-.4-.92-.59-1.43-.59-.52 0-1.04.2-1.43.59L10.3 9.45l-7.72 7.72c-.78.78-.78 2.05 0 2.83L4 21.41c.39.39.9.59 1.41.59.51 0 1.02-.2 1.41-.59l7.78-7.78 2.81-2.81c.8-.78.8-2.07 0-2.86zM5.41 20L4 18.59l7.72-7.72 1.47 1.35L5.41 20z\"/>\n",
              "  </svg>\n",
              "      </button>\n",
              "      \n",
              "  <style>\n",
              "    .colab-df-container {\n",
              "      display:flex;\n",
              "      flex-wrap:wrap;\n",
              "      gap: 12px;\n",
              "    }\n",
              "\n",
              "    .colab-df-convert {\n",
              "      background-color: #E8F0FE;\n",
              "      border: none;\n",
              "      border-radius: 50%;\n",
              "      cursor: pointer;\n",
              "      display: none;\n",
              "      fill: #1967D2;\n",
              "      height: 32px;\n",
              "      padding: 0 0 0 0;\n",
              "      width: 32px;\n",
              "    }\n",
              "\n",
              "    .colab-df-convert:hover {\n",
              "      background-color: #E2EBFA;\n",
              "      box-shadow: 0px 1px 2px rgba(60, 64, 67, 0.3), 0px 1px 3px 1px rgba(60, 64, 67, 0.15);\n",
              "      fill: #174EA6;\n",
              "    }\n",
              "\n",
              "    [theme=dark] .colab-df-convert {\n",
              "      background-color: #3B4455;\n",
              "      fill: #D2E3FC;\n",
              "    }\n",
              "\n",
              "    [theme=dark] .colab-df-convert:hover {\n",
              "      background-color: #434B5C;\n",
              "      box-shadow: 0px 1px 3px 1px rgba(0, 0, 0, 0.15);\n",
              "      filter: drop-shadow(0px 1px 2px rgba(0, 0, 0, 0.3));\n",
              "      fill: #FFFFFF;\n",
              "    }\n",
              "  </style>\n",
              "\n",
              "      <script>\n",
              "        const buttonEl =\n",
              "          document.querySelector('#df-c6ea35f4-6e68-46a2-bf24-74fe28065770 button.colab-df-convert');\n",
              "        buttonEl.style.display =\n",
              "          google.colab.kernel.accessAllowed ? 'block' : 'none';\n",
              "\n",
              "        async function convertToInteractive(key) {\n",
              "          const element = document.querySelector('#df-c6ea35f4-6e68-46a2-bf24-74fe28065770');\n",
              "          const dataTable =\n",
              "            await google.colab.kernel.invokeFunction('convertToInteractive',\n",
              "                                                     [key], {});\n",
              "          if (!dataTable) return;\n",
              "\n",
              "          const docLinkHtml = 'Like what you see? Visit the ' +\n",
              "            '<a target=\"_blank\" href=https://colab.research.google.com/notebooks/data_table.ipynb>data table notebook</a>'\n",
              "            + ' to learn more about interactive tables.';\n",
              "          element.innerHTML = '';\n",
              "          dataTable['output_type'] = 'display_data';\n",
              "          await google.colab.output.renderOutput(dataTable, element);\n",
              "          const docLink = document.createElement('div');\n",
              "          docLink.innerHTML = docLinkHtml;\n",
              "          element.appendChild(docLink);\n",
              "        }\n",
              "      </script>\n",
              "    </div>\n",
              "  </div>\n",
              "  "
            ],
            "text/plain": [
              "      Account length  Number vmail messages  Total day calls  \\\n",
              "2281        0.149065               2.184737        -2.164631   \n",
              "1503       -1.106707               0.650357        -0.320723   \n",
              "1987       -1.056476              -0.591760        -0.221052   \n",
              "2310        1.178798               1.234883         0.077960   \n",
              "2042       -1.257400               1.307948        -1.965290   \n",
              "\n",
              "      Total day charge  Total eve calls  Total eve charge  Total night calls  \\\n",
              "2281          0.448010        -0.407352          0.096626          -1.027703   \n",
              "1503          1.042087        -0.306949         -0.747918           0.863364   \n",
              "1987         -0.371818         1.148901         -0.666711           0.301154   \n",
              "2310          0.935153         0.446077          0.646507          -0.516604   \n",
              "2042          1.047488        -0.156344          1.231191          -0.465494   \n",
              "\n",
              "      Total night charge  Total intl calls  Total intl charge  ...  SD  TN  \\\n",
              "2281            1.692209         -0.194831          -0.696046  ...   0   0   \n",
              "1503            0.707824         -0.601195           0.697156  ...   0   0   \n",
              "1987           -1.230185         -0.194831          -0.019348  ...   0   0   \n",
              "2310            0.294733         -1.007560           1.174826  ...   0   0   \n",
              "2042           -0.390821          1.430627           0.338904  ...   0   0   \n",
              "\n",
              "      TX  UT  VA  VT  WA  WI  WV  WY  \n",
              "2281   0   0   0   0   0   0   0   0  \n",
              "1503   0   0   0   0   0   0   1   0  \n",
              "1987   0   0   0   0   0   0   0   0  \n",
              "2310   0   0   0   0   0   0   0   0  \n",
              "2042   0   0   0   0   0   0   0   0  \n",
              "\n",
              "[5 rows x 68 columns]"
            ]
          },
          "execution_count": 197,
          "metadata": {},
          "output_type": "execute_result"
        }
      ],
      "source": [
        "final_data.head()"
      ]
    },
    {
      "cell_type": "code",
      "execution_count": 198,
      "id": "DZCxJlURaVA2",
      "metadata": {
        "id": "DZCxJlURaVA2"
      },
      "outputs": [],
      "source": [
        "# splitting in train and test\n",
        "train_df = final_data.iloc[:2333,0:]\n",
        "test_df = final_data.iloc[2333:,0:]"
      ]
    },
    {
      "cell_type": "code",
      "execution_count": 199,
      "id": "mpx9Tuolabc3",
      "metadata": {
        "colab": {
          "base_uri": "https://localhost:8080/"
        },
        "id": "mpx9Tuolabc3",
        "outputId": "2bea8511-b915-4777-ff59-422adfc7fc2a"
      },
      "outputs": [
        {
          "data": {
            "text/plain": [
              "((2333, 68), (1000, 68))"
            ]
          },
          "execution_count": 199,
          "metadata": {},
          "output_type": "execute_result"
        }
      ],
      "source": [
        "# shape of test and train dataset\n",
        "train_df.shape,test_df.shape"
      ]
    },
    {
      "cell_type": "code",
      "execution_count": 200,
      "id": "KAw5Ch_Kar3o",
      "metadata": {
        "id": "KAw5Ch_Kar3o"
      },
      "outputs": [],
      "source": [
        "# taking the churn column as target variables\n",
        "train_target = train_df[\"Churn\"]\n",
        "test_target = test_df[\"Churn\"]"
      ]
    },
    {
      "cell_type": "code",
      "execution_count": 201,
      "id": "1iLI_KogbOgX",
      "metadata": {
        "id": "1iLI_KogbOgX"
      },
      "outputs": [],
      "source": [
        "train_df = train_df.drop('Churn',axis=1)\n",
        "test_df = test_df.drop('Churn',axis=1)"
      ]
    },
    {
      "cell_type": "code",
      "execution_count": 202,
      "id": "L_YAR4ppbipS",
      "metadata": {
        "colab": {
          "base_uri": "https://localhost:8080/"
        },
        "id": "L_YAR4ppbipS",
        "outputId": "d93490c9-ddd3-4ab9-add0-15417ad3d596"
      },
      "outputs": [
        {
          "data": {
            "text/plain": [
              "((2333, 67), (1000, 67))"
            ]
          },
          "execution_count": 202,
          "metadata": {},
          "output_type": "execute_result"
        }
      ],
      "source": [
        "# shape of test and train dataset\n",
        "train_df.shape,test_df.shape"
      ]
    },
    {
      "cell_type": "markdown",
      "id": "Gcp8LDjJTaNm",
      "metadata": {
        "id": "Gcp8LDjJTaNm"
      },
      "source": [
        "# Hypothesis :-"
      ]
    },
    {
      "cell_type": "markdown",
      "id": "vxSxoza0TaNm",
      "metadata": {
        "id": "vxSxoza0TaNm"
      },
      "source": [
        "#### We are going to fit some models on the training data that we have prepared. Since this is a classification problem, we are fitting, Logistic regression, KNN, SVM, Decision Tree, Random forest and Adaboost. All the mentioned models can be used for classification problem."
      ]
    },
    {
      "cell_type": "markdown",
      "id": "fPhWtH9hTaNm",
      "metadata": {
        "id": "fPhWtH9hTaNm"
      },
      "source": [
        "#### Our initial hypothesis is that Random forest will perform better than others. We think this because in random forest, model is made up of various trees which are fully grown and then aggregate them. These trees are fitted with different set of predictors. This allows the model to learn all the observations as the trees are fully grown. The model has low bias and since we take the aggregate of trees, the variance also decreases. Therefore, this model performs better than others."
      ]
    },
    {
      "cell_type": "markdown",
      "id": "st3UuT2oTaNn",
      "metadata": {
        "id": "st3UuT2oTaNn"
      },
      "source": [
        "# Model Fitting and Validation :-"
      ]
    },
    {
      "cell_type": "markdown",
      "id": "O0XmmZvwTaNn",
      "metadata": {
        "id": "O0XmmZvwTaNn"
      },
      "source": [
        "#### We will fit the model on training data and validate it on the validation  data. For that we will further divide our training data into train and validation data in 80:20 ratio."
      ]
    },
    {
      "cell_type": "code",
      "execution_count": 203,
      "id": "Y6tANsqrTaNn",
      "metadata": {
        "id": "Y6tANsqrTaNn"
      },
      "outputs": [],
      "source": [
        "# splitting the dataset into training and validation\n",
        "X_train,X_val,y_train,y_val = train_test_split(train_df, train_target, test_size = 0.2, random_state = 28, stratify = train_target)"
      ]
    },
    {
      "cell_type": "markdown",
      "id": "8z7eORk5TaNn",
      "metadata": {
        "id": "8z7eORk5TaNn"
      },
      "source": [
        "# 1. KNN Model :-"
      ]
    },
    {
      "cell_type": "markdown",
      "id": "qOoNV8zmTaNn",
      "metadata": {
        "id": "qOoNV8zmTaNn"
      },
      "source": [
        "#### K-nearest neighbor model considers k number of data points closest to the given data point and takes the mode of them to predict the outcome."
      ]
    },
    {
      "cell_type": "code",
      "execution_count": 204,
      "id": "X-xpUSzLTaNo",
      "metadata": {
        "colab": {
          "base_uri": "https://localhost:8080/"
        },
        "id": "X-xpUSzLTaNo",
        "outputId": "9793bcaa-a78b-4897-deca-7a8766063e4c"
      },
      "outputs": [
        {
          "name": "stdout",
          "output_type": "stream",
          "text": [
            "\n",
            "Confusion matrix:\n",
            " [[391   7]\n",
            " [ 56  13]]\n",
            "\n",
            "Classification Report:\n",
            "              precision    recall  f1-score   support\n",
            "\n",
            "           0       0.87      0.98      0.93       398\n",
            "           1       0.65      0.19      0.29        69\n",
            "\n",
            "    accuracy                           0.87       467\n",
            "   macro avg       0.76      0.59      0.61       467\n",
            "weighted avg       0.84      0.87      0.83       467\n",
            "\n"
          ]
        }
      ],
      "source": [
        "neigh = KNeighborsClassifier(n_neighbors = 3)\n",
        "knn_model = neigh.fit(X_train, y_train)\n",
        "k_pred = knn_model.predict(X_val)\n",
        "\n",
        "# confusion matrix\n",
        "cf_matrix = confusion_matrix(y_val, k_pred)\n",
        "print(\"\\nConfusion matrix:\\n\", cf_matrix)\n",
        "print(\"\\nClassification Report:\")\n",
        "print(classification_report(y_val, k_pred))"
      ]
    },
    {
      "cell_type": "markdown",
      "id": "BFRnNRNwTaNo",
      "metadata": {
        "id": "BFRnNRNwTaNo"
      },
      "source": [
        "# 2. Logistic Regression Model :-"
      ]
    },
    {
      "cell_type": "markdown",
      "id": "iiMoM_S2TaNo",
      "metadata": {
        "id": "iiMoM_S2TaNo"
      },
      "source": [
        "#### It calculates the probability of class 1 given the observations. Based on the threshold value of probability is set, it classifies the observation into class 0 or 1 in the case of two class problems."
      ]
    },
    {
      "cell_type": "code",
      "execution_count": 205,
      "id": "THdcm7dpTaNp",
      "metadata": {
        "colab": {
          "base_uri": "https://localhost:8080/"
        },
        "id": "THdcm7dpTaNp",
        "outputId": "c7d710fe-8574-446f-9db2-18e3fda307fc"
      },
      "outputs": [
        {
          "name": "stdout",
          "output_type": "stream",
          "text": [
            "\n",
            "Confusion matrix:\n",
            " [[380  18]\n",
            " [ 55  14]]\n",
            "\n",
            "Classification Report:\n",
            "              precision    recall  f1-score   support\n",
            "\n",
            "           0       0.87      0.95      0.91       398\n",
            "           1       0.44      0.20      0.28        69\n",
            "\n",
            "    accuracy                           0.84       467\n",
            "   macro avg       0.66      0.58      0.59       467\n",
            "weighted avg       0.81      0.84      0.82       467\n",
            "\n"
          ]
        }
      ],
      "source": [
        "logistic_model = LogisticRegression()\n",
        "logistic_model.fit(X_train, y_train)\n",
        "predictions = logistic_model.predict(X_val)\n",
        "\n",
        "# confusion matrix\n",
        "cf_matrix = confusion_matrix(y_val, predictions)\n",
        "print(\"\\nConfusion matrix:\\n\",cf_matrix)\n",
        "print(\"\\nClassification Report:\")\n",
        "print(classification_report(y_val, predictions))"
      ]
    },
    {
      "cell_type": "markdown",
      "id": "SuFNYjEJTaNp",
      "metadata": {
        "id": "SuFNYjEJTaNp"
      },
      "source": [
        "# 3. SVM Model :-"
      ]
    },
    {
      "cell_type": "markdown",
      "id": "1Kag_XjATaNq",
      "metadata": {
        "id": "1Kag_XjATaNq"
      },
      "source": [
        "#### In SVM, the data is plotted into the n-dimensional space where n is the number of features. Then we find a hyperplane of n-1 dimensions which separates the two classes. Support vectors are the closest point to the hyperplane and are decisive in finding the hyperplane."
      ]
    },
    {
      "cell_type": "code",
      "execution_count": 207,
      "id": "6qk7xUrtTaNq",
      "metadata": {
        "colab": {
          "base_uri": "https://localhost:8080/"
        },
        "id": "6qk7xUrtTaNq",
        "outputId": "161034d8-e081-43a9-bc34-091c8744991d"
      },
      "outputs": [
        {
          "name": "stdout",
          "output_type": "stream",
          "text": [
            "\n",
            "Confusion matrix:\n",
            " [[383  15]\n",
            " [ 33  36]]\n",
            "\n",
            "Classification Report:\n",
            "              precision    recall  f1-score   support\n",
            "\n",
            "           0       0.92      0.96      0.94       398\n",
            "           1       0.71      0.52      0.60        69\n",
            "\n",
            "    accuracy                           0.90       467\n",
            "   macro avg       0.81      0.74      0.77       467\n",
            "weighted avg       0.89      0.90      0.89       467\n",
            "\n"
          ]
        }
      ],
      "source": [
        "svm_model = svm.SVC(kernel = 'rbf', C=50, probability=True)\n",
        "svm_model.fit(X_train, y_train)\n",
        "svm_predictions = svm_model.predict(X_val)\n",
        "\n",
        "# confusion matrix\n",
        "cf_matrix = confusion_matrix(y_val, svm_predictions)\n",
        "print(\"\\nConfusion matrix:\\n\",cf_matrix)\n",
        "print(\"\\nClassification Report:\")\n",
        "print(classification_report(y_val, svm_predictions))"
      ]
    },
    {
      "cell_type": "markdown",
      "id": "TZDwTJtDTaNq",
      "metadata": {
        "id": "TZDwTJtDTaNq"
      },
      "source": [
        "# 4. Decision Tree Model :-"
      ]
    },
    {
      "cell_type": "markdown",
      "id": "1U-w6HYVTaNq",
      "metadata": {
        "id": "1U-w6HYVTaNq"
      },
      "source": [
        "#### It is a non-parameteric model which is easy to interpret. In this model, we make a split based on a condition in any predictor based on some criterion. In classification problem, based on the predictors the tree considers all the observation which are in the leaf and take the mode of them to make the prediction. "
      ]
    },
    {
      "cell_type": "code",
      "execution_count": 209,
      "id": "DgjrEUmfTaNq",
      "metadata": {
        "colab": {
          "base_uri": "https://localhost:8080/"
        },
        "id": "DgjrEUmfTaNq",
        "outputId": "2adc89a6-add3-4247-de70-b4001d31466b"
      },
      "outputs": [
        {
          "name": "stdout",
          "output_type": "stream",
          "text": [
            "\n",
            "Confusion matrix:\n",
            " [[382  16]\n",
            " [ 21  48]]\n",
            "\n",
            "Classification Report:\n",
            "              precision    recall  f1-score   support\n",
            "\n",
            "           0       0.95      0.96      0.95       398\n",
            "           1       0.75      0.70      0.72        69\n",
            "\n",
            "    accuracy                           0.92       467\n",
            "   macro avg       0.85      0.83      0.84       467\n",
            "weighted avg       0.92      0.92      0.92       467\n",
            "\n"
          ]
        }
      ],
      "source": [
        "dt_model = DecisionTreeClassifier(criterion = \"gini\", max_depth = 5, min_samples_leaf = 5)\n",
        "dt_model.fit(X_train, y_train)\n",
        "clf = dt_model.predict(X_val)\n",
        "\n",
        "# confusion matrix\n",
        "cf_matrix = confusion_matrix(y_val, clf)\n",
        "print(\"\\nConfusion matrix:\\n\",cf_matrix)\n",
        "print(\"\\nClassification Report:\")\n",
        "print(classification_report(y_val, clf))"
      ]
    },
    {
      "cell_type": "markdown",
      "id": "7bzS0VzqTaNr",
      "metadata": {
        "id": "7bzS0VzqTaNr"
      },
      "source": [
        "# 5. Random Forest Model :-"
      ]
    },
    {
      "cell_type": "markdown",
      "id": "5lo_XZPLTaNr",
      "metadata": {
        "id": "5lo_XZPLTaNr"
      },
      "source": [
        "#### It fits number of decision tree classifiers on various bootstraped samples of the dataset. It then use average of all to improve the performances of those decision trees."
      ]
    },
    {
      "cell_type": "code",
      "execution_count": 210,
      "id": "WRtKXMYlTaNr",
      "metadata": {
        "colab": {
          "base_uri": "https://localhost:8080/"
        },
        "id": "WRtKXMYlTaNr",
        "outputId": "71f46a6a-1148-40cd-8d41-b88e5ece9d81"
      },
      "outputs": [
        {
          "name": "stdout",
          "output_type": "stream",
          "text": [
            "\n",
            "Confusion matrix:\n",
            " [[388  10]\n",
            " [ 19  50]]\n",
            "\n",
            "Classification Report:\n",
            "              precision    recall  f1-score   support\n",
            "\n",
            "           0       0.95      0.97      0.96       398\n",
            "           1       0.83      0.72      0.78        69\n",
            "\n",
            "    accuracy                           0.94       467\n",
            "   macro avg       0.89      0.85      0.87       467\n",
            "weighted avg       0.94      0.94      0.94       467\n",
            "\n"
          ]
        }
      ],
      "source": [
        "rf_model = RandomForestClassifier(n_estimators=100, max_features=0.5, oob_score=True)\n",
        "rf_model.fit(X_train, y_train)\n",
        "rf_predictions = rf_model.predict(X_val)\n",
        "\n",
        "# confusion matrix\n",
        "cf_matrix = confusion_matrix(y_val, rf_predictions)\n",
        "print(\"\\nConfusion matrix:\\n\",cf_matrix)\n",
        "print(\"\\nClassification Report:\")\n",
        "print(classification_report(y_val, rf_predictions))"
      ]
    },
    {
      "cell_type": "code",
      "execution_count": 211,
      "id": "gdNgVF1BTaNr",
      "metadata": {
        "colab": {
          "base_uri": "https://localhost:8080/"
        },
        "id": "gdNgVF1BTaNr",
        "outputId": "8fb0ed9a-00fe-49d3-97b5-ee8ccfe90dd0"
      },
      "outputs": [
        {
          "data": {
            "text/plain": [
              "0.9469453376205788"
            ]
          },
          "execution_count": 211,
          "metadata": {},
          "output_type": "execute_result"
        }
      ],
      "source": [
        "rf_model.oob_score_        # out of bag accuracy"
      ]
    },
    {
      "cell_type": "code",
      "execution_count": 212,
      "id": "FEhxLq6fTaNr",
      "metadata": {
        "colab": {
          "base_uri": "https://localhost:8080/"
        },
        "id": "FEhxLq6fTaNr",
        "outputId": "d8ea48c5-340c-4c39-dd04-0582d4aa9783",
        "scrolled": true
      },
      "outputs": [
        {
          "data": {
            "text/plain": [
              "array([2.80624607e-02, 4.23681831e-02, 3.24614267e-02, 2.41377021e-01,\n",
              "       2.58236492e-02, 1.05988899e-01, 2.93745391e-02, 4.11016581e-02,\n",
              "       6.47435095e-02, 6.88176248e-02, 1.33873890e-01, 7.14853427e-02,\n",
              "       2.40933339e-02, 4.34849932e-03, 3.45823380e-03, 3.42636957e-03,\n",
              "       5.69546019e-04, 4.20028236e-04, 8.12091071e-04, 1.88415723e-03,\n",
              "       1.57074395e-03, 2.06553215e-03, 8.48618507e-04, 3.37519376e-03,\n",
              "       9.56371622e-04, 1.58960104e-03, 1.22407857e-03, 9.47034221e-04,\n",
              "       2.01389944e-03, 9.98929084e-04, 2.93355869e-03, 1.18698632e-03,\n",
              "       1.70710958e-03, 4.43415916e-04, 4.46936273e-04, 1.64094345e-03,\n",
              "       1.48207867e-03, 3.01818819e-03, 1.20620363e-03, 2.13908692e-03,\n",
              "       1.37066883e-03, 3.57790238e-03, 2.95296854e-03, 1.56289668e-03,\n",
              "       9.92762915e-04, 5.15856128e-04, 1.24237609e-03, 2.59095499e-03,\n",
              "       6.64436323e-04, 2.53871480e-03, 1.43974839e-03, 3.34558511e-03,\n",
              "       5.10654172e-04, 6.48489769e-04, 1.27718117e-03, 5.73473399e-04,\n",
              "       4.85190951e-04, 6.70984863e-04, 1.47570653e-04, 5.64788993e-03,\n",
              "       1.23202721e-03, 3.31769180e-03, 4.26688364e-04, 1.75140609e-03,\n",
              "       2.06852274e-03, 3.70145833e-04, 1.79223800e-03])"
            ]
          },
          "execution_count": 212,
          "metadata": {},
          "output_type": "execute_result"
        }
      ],
      "source": [
        "rf_model.feature_importances_"
      ]
    },
    {
      "cell_type": "markdown",
      "id": "jMXNOT_QTaNs",
      "metadata": {
        "id": "jMXNOT_QTaNs"
      },
      "source": [
        "# 6. AdaBoost Model :-"
      ]
    },
    {
      "cell_type": "markdown",
      "id": "0VYUP4MkTaNs",
      "metadata": {
        "id": "0VYUP4MkTaNs"
      },
      "source": [
        "#### In this model, several classifier trees usually weak classifiers like decision stump are created and more wightage(importance) is given to the classifier which gives less error or is able to classify a difficult observation. This helps the model to learn to classify even the difficult observations."
      ]
    },
    {
      "cell_type": "code",
      "execution_count": 213,
      "id": "5ikx51VITaNs",
      "metadata": {
        "colab": {
          "base_uri": "https://localhost:8080/"
        },
        "id": "5ikx51VITaNs",
        "outputId": "9e2fc220-a44d-45aa-ce46-3ef5400a84cb"
      },
      "outputs": [
        {
          "name": "stdout",
          "output_type": "stream",
          "text": [
            "\n",
            "Confusion matrix:\n",
            " [[376  22]\n",
            " [ 41  28]]\n",
            "\n",
            "Classification Report:\n",
            "              precision    recall  f1-score   support\n",
            "\n",
            "           0       0.90      0.94      0.92       398\n",
            "           1       0.56      0.41      0.47        69\n",
            "\n",
            "    accuracy                           0.87       467\n",
            "   macro avg       0.73      0.68      0.70       467\n",
            "weighted avg       0.85      0.87      0.86       467\n",
            "\n"
          ]
        }
      ],
      "source": [
        "boost_model = AdaBoostClassifier()\n",
        "boost_model.fit(X_train,y_train)\n",
        "boost_predictions = boost_model.predict(X_val)\n",
        "\n",
        "# confusion matrix\n",
        "cf_matrix = confusion_matrix(y_val, boost_predictions)\n",
        "print(\"\\nConfusion matrix:\\n\",cf_matrix)\n",
        "print(\"\\nClassification Report:\")\n",
        "print(classification_report(y_val, boost_predictions))"
      ]
    },
    {
      "cell_type": "code",
      "execution_count": null,
      "id": "1h3JPEoYTaNt",
      "metadata": {
        "id": "1h3JPEoYTaNt"
      },
      "outputs": [],
      "source": []
    },
    {
      "cell_type": "markdown",
      "id": "bA5oMR-yTaNt",
      "metadata": {
        "id": "bA5oMR-yTaNt"
      },
      "source": [
        "# Evaluating Models on Validation Data :-"
      ]
    },
    {
      "cell_type": "markdown",
      "id": "Dv-9KXwATaNt",
      "metadata": {
        "id": "Dv-9KXwATaNt"
      },
      "source": [
        "## ROC & AUC Curve :-"
      ]
    },
    {
      "cell_type": "markdown",
      "id": "FWbwqdD9TaNt",
      "metadata": {
        "id": "FWbwqdD9TaNt"
      },
      "source": [
        "#### Since the classes in the data is imbalanced accuracy won't give us idea of how good a model is. Instead we should look at area under curve to compare the models and find which one is better. AUC score of 0.5 means the model is average (like tossing a coin). Greater the AUC score, better is the model."
      ]
    },
    {
      "cell_type": "code",
      "execution_count": 214,
      "id": "-jrLW9NymWgg",
      "metadata": {
        "colab": {
          "base_uri": "https://localhost:8080/"
        },
        "id": "-jrLW9NymWgg",
        "outputId": "2d0fcc2a-1d5f-4da9-9eb2-b3352e3b49cd"
      },
      "outputs": [
        {
          "name": "stdout",
          "output_type": "stream",
          "text": [
            "ROC-AUC Score for KNN = 0.7174823392323938\n",
            "ROC-AUC Score for Logistic Regression = 0.7845022212511835\n",
            "ROC-AUC Score for SVM = 0.8488456776636808\n",
            "ROC-AUC Score for Decision Tree = 0.8576396475129268\n",
            "ROC-AUC Score for Random Forest = 0.871294880198092\n",
            "ROC-AUC Score for AdaBoost = 0.821116451824339\n"
          ]
        }
      ],
      "source": [
        "# predict probabilities\n",
        "pred_prob1 = dt_model.predict_proba(X_val)           # array of probability of 0 and 1 for each observation in validation data\n",
        "pred_prob2 = boost_model.predict_proba(X_val)\n",
        "pred_prob3 = knn_model.predict_proba(X_val)\n",
        "pred_prob4 = logistic_model.predict_proba(X_val)\n",
        "pred_prob5 = svm_model.predict_proba(X_val)\n",
        "pred_prob6 = rf_model.predict_proba(X_val)\n",
        "\n",
        "# roc curve for all the models we have created\n",
        "fpr1, tpr1, thresh1 = roc_curve(y_val, pred_prob1[:,1], pos_label=1)  # gives false positive rate, true positive rate and threshold\n",
        "fpr2, tpr2, thresh2 = roc_curve(y_val, pred_prob2[:,1], pos_label=1)\n",
        "fpr3, tpr3, thresh3 = roc_curve(y_val, pred_prob3[:,1], pos_label=1)\n",
        "fpr4, tpr4, thresh4 = roc_curve(y_val, pred_prob4[:,1], pos_label=1)\n",
        "fpr5, tpr5, thresh5 = roc_curve(y_val, pred_prob5[:,1], pos_label=1)\n",
        "fpr6, tpr6, thresh6 = roc_curve(y_val, pred_prob6[:,1], pos_label=1)\n",
        "\n",
        "# roc curve for tpr = fpr \n",
        "random_probs = [0 for i in range(len(y_val))]\n",
        "p_fpr, p_tpr, _ = roc_curve(y_val, random_probs, pos_label=1)     # will create roc curve for average model\n",
        "\n",
        "# area under curve scores\n",
        "auc_score1 = roc_auc_score(y_val, pred_prob1[:,1])      # gives roc auc scores\n",
        "auc_score2 = roc_auc_score(y_val, pred_prob2[:,1])\n",
        "auc_score3 = roc_auc_score(y_val, pred_prob3[:,1])\n",
        "auc_score4 = roc_auc_score(y_val, pred_prob4[:,1])\n",
        "auc_score5 = roc_auc_score(y_val, pred_prob5[:,1])\n",
        "auc_score6 = roc_auc_score(y_val, pred_prob6[:,1])\n",
        "\n",
        "print(\"ROC-AUC Score for KNN =\", auc_score3)\n",
        "print(\"ROC-AUC Score for Logistic Regression =\", auc_score4)\n",
        "print(\"ROC-AUC Score for SVM =\", auc_score5)\n",
        "print(\"ROC-AUC Score for Decision Tree =\", auc_score1)\n",
        "print(\"ROC-AUC Score for Random Forest =\", auc_score6)\n",
        "print(\"ROC-AUC Score for AdaBoost =\", auc_score2)\n",
        "#print(auc_score1, auc_score2, auc_score3, auc_score4, auc_score5, auc_score6)"
      ]
    },
    {
      "cell_type": "code",
      "execution_count": 215,
      "id": "lugQhw0kTaNt",
      "metadata": {
        "colab": {
          "base_uri": "https://localhost:8080/",
          "height": 376
        },
        "id": "lugQhw0kTaNt",
        "outputId": "2baf60a1-6b4f-4251-b37c-4d1a71270f51"
      },
      "outputs": [
        {
          "data": {
            "image/png": "[encoded data removed]",
            "text/plain": [
              "<Figure size 576x396 with 1 Axes>"
            ]
          },
          "metadata": {},
          "output_type": "display_data"
        }
      ],
      "source": [
        "plt.style.use('seaborn')\n",
        "\n",
        "# plot roc curves\n",
        "plt.plot(fpr1, tpr1, linestyle='--',color='orange', label='Decision Tree')\n",
        "plt.plot(fpr2, tpr2, linestyle='--',color='green', label='AdaBoost')\n",
        "plt.plot(fpr3, tpr3, linestyle='--',color='brown', label='KnnClassifier')\n",
        "plt.plot(fpr4, tpr4, linestyle='--',color='red', label='Logistic Regression')\n",
        "plt.plot(fpr5, tpr5, linestyle='--',color='yellow', label='SVM')\n",
        "plt.plot(fpr6, tpr6, linestyle='--',color='black', label='Random Forest')\n",
        "plt.plot(p_fpr, p_tpr, linestyle='--', color='blue')\n",
        "# title\n",
        "plt.title('ROC curve')\n",
        "# x label\n",
        "plt.xlabel('False Positive Rate')\n",
        "# y label\n",
        "plt.ylabel('True Positive rate')\n",
        "\n",
        "plt.legend(loc='best')\n",
        "plt.savefig('ROC',dpi=300)\n",
        "plt.show();"
      ]
    },
    {
      "cell_type": "markdown",
      "id": "8_YPFoTiTaNu",
      "metadata": {
        "id": "8_YPFoTiTaNu"
      },
      "source": [
        "# Smote :- Testing model with handeling imbalance in data"
      ]
    },
    {
      "cell_type": "code",
      "execution_count": 216,
      "id": "HzyV4DyqTaNu",
      "metadata": {
        "id": "HzyV4DyqTaNu",
        "scrolled": true
      },
      "outputs": [],
      "source": [
        "from imblearn.over_sampling import SMOTE\n",
        "smote = SMOTE(random_state = 0)\n",
        "x_smote, y_smote = smote.fit_resample(X_train, y_train)\n",
        "x_smote = pd.DataFrame(data = x_smote, columns=X_train.columns)\n",
        "y_smote = pd.DataFrame(data = y_smote)"
      ]
    },
    {
      "cell_type": "code",
      "execution_count": 217,
      "id": "2UICcRqITaNu",
      "metadata": {
        "colab": {
          "base_uri": "https://localhost:8080/"
        },
        "id": "2UICcRqITaNu",
        "outputId": "fbad9388-4771-4027-cdac-0a830dc1bf5b"
      },
      "outputs": [
        {
          "data": {
            "text/plain": [
              "Churn\n",
              "0        1588\n",
              "1        1588\n",
              "dtype: int64"
            ]
          },
          "execution_count": 217,
          "metadata": {},
          "output_type": "execute_result"
        }
      ],
      "source": [
        "y_smote.value_counts()"
      ]
    },
    {
      "cell_type": "markdown",
      "id": "FIna7eaOTaNv",
      "metadata": {
        "id": "FIna7eaOTaNv"
      },
      "source": [
        "# KNN"
      ]
    },
    {
      "cell_type": "code",
      "execution_count": 218,
      "id": "Tse0fglhTaNv",
      "metadata": {
        "colab": {
          "base_uri": "https://localhost:8080/"
        },
        "id": "Tse0fglhTaNv",
        "outputId": "c08642d7-36ed-408e-9d04-aa49c2eb046d"
      },
      "outputs": [
        {
          "name": "stdout",
          "output_type": "stream",
          "text": [
            "\n",
            "Confusion matrix:\n",
            " [[391   7]\n",
            " [ 56  13]]\n",
            "\n",
            "Classification Report:\n",
            "              precision    recall  f1-score   support\n",
            "\n",
            "           0       0.87      0.98      0.93       398\n",
            "           1       0.65      0.19      0.29        69\n",
            "\n",
            "    accuracy                           0.87       467\n",
            "   macro avg       0.76      0.59      0.61       467\n",
            "weighted avg       0.84      0.87      0.83       467\n",
            "\n"
          ]
        }
      ],
      "source": [
        "smote_neigh = KNeighborsClassifier(n_neighbors=3)\n",
        "smote_knn_model=neigh.fit(X_train, y_train)\n",
        "k_pred=smote_knn_model.predict(X_val)\n",
        "\n",
        "# confusion matrix\n",
        "cf_matrix = confusion_matrix(y_val, k_pred)\n",
        "print(\"\\nConfusion matrix:\\n\",cf_matrix)\n",
        "print(\"\\nClassification Report:\")\n",
        "print(classification_report(y_val, k_pred))"
      ]
    },
    {
      "cell_type": "markdown",
      "id": "VckD14hiTaNv",
      "metadata": {
        "id": "VckD14hiTaNv"
      },
      "source": [
        "# Logistic Regression"
      ]
    },
    {
      "cell_type": "code",
      "execution_count": 219,
      "id": "zNZIoq4eTaNv",
      "metadata": {
        "colab": {
          "base_uri": "https://localhost:8080/"
        },
        "id": "zNZIoq4eTaNv",
        "outputId": "a20d0208-fed0-4d5d-f395-5cd5ad8f0ffd"
      },
      "outputs": [
        {
          "name": "stdout",
          "output_type": "stream",
          "text": [
            "\n",
            "Confusion matrix:\n",
            " [[380  18]\n",
            " [ 55  14]]\n",
            "\n",
            "Classification Report:\n",
            "              precision    recall  f1-score   support\n",
            "\n",
            "           0       0.87      0.95      0.91       398\n",
            "           1       0.44      0.20      0.28        69\n",
            "\n",
            "    accuracy                           0.84       467\n",
            "   macro avg       0.66      0.58      0.59       467\n",
            "weighted avg       0.81      0.84      0.82       467\n",
            "\n"
          ]
        }
      ],
      "source": [
        "smote_logistic_model=LogisticRegression()\n",
        "smote_logistic_model.fit(X_train, y_train)\n",
        "predictions = smote_logistic_model.predict(X_val)\n",
        "\n",
        "# confusion matrix\n",
        "cf_matrix = confusion_matrix(y_val, predictions)\n",
        "print(\"\\nConfusion matrix:\\n\",cf_matrix)\n",
        "print(\"\\nClassification Report:\")\n",
        "print(classification_report(y_val, predictions))"
      ]
    },
    {
      "cell_type": "markdown",
      "id": "AWJRAWwKTaNv",
      "metadata": {
        "id": "AWJRAWwKTaNv"
      },
      "source": [
        "# Random Forest"
      ]
    },
    {
      "cell_type": "code",
      "execution_count": 220,
      "id": "8ATlFDnHTaNw",
      "metadata": {
        "colab": {
          "base_uri": "https://localhost:8080/"
        },
        "id": "8ATlFDnHTaNw",
        "outputId": "5fa9e13a-5c11-41fb-dd11-98bc2275f4b8"
      },
      "outputs": [
        {
          "name": "stdout",
          "output_type": "stream",
          "text": [
            "\n",
            "Confusion matrix:\n",
            " [[389   9]\n",
            " [ 18  51]]\n",
            "\n",
            "Classification Report:\n",
            "              precision    recall  f1-score   support\n",
            "\n",
            "           0       0.96      0.98      0.97       398\n",
            "           1       0.85      0.74      0.79        69\n",
            "\n",
            "    accuracy                           0.94       467\n",
            "   macro avg       0.90      0.86      0.88       467\n",
            "weighted avg       0.94      0.94      0.94       467\n",
            "\n"
          ]
        }
      ],
      "source": [
        "smote_rf_model = RandomForestClassifier(n_estimators=100, max_features=0.5, oob_score=True)\n",
        "smote_rf_model.fit(X_train, y_train)\n",
        "rf_predictions = smote_rf_model.predict(X_val)\n",
        "\n",
        "# confusion matrix\n",
        "cf_matrix = confusion_matrix(y_val, rf_predictions)\n",
        "print(\"\\nConfusion matrix:\\n\",cf_matrix)\n",
        "print(\"\\nClassification Report:\")\n",
        "print(classification_report(y_val, rf_predictions))"
      ]
    },
    {
      "cell_type": "markdown",
      "id": "SX0g_JncTaNw",
      "metadata": {
        "id": "SX0g_JncTaNw"
      },
      "source": [
        "# SVM"
      ]
    },
    {
      "cell_type": "code",
      "execution_count": 221,
      "id": "ojpqRWl8TaNw",
      "metadata": {
        "colab": {
          "base_uri": "https://localhost:8080/"
        },
        "id": "ojpqRWl8TaNw",
        "outputId": "426d1685-7e16-4b68-821b-b4f6f2783498"
      },
      "outputs": [
        {
          "name": "stdout",
          "output_type": "stream",
          "text": [
            "\n",
            "Confusion matrix:\n",
            " [[383  15]\n",
            " [ 33  36]]\n",
            "\n",
            "Classification Report:\n",
            "              precision    recall  f1-score   support\n",
            "\n",
            "           0       0.92      0.96      0.94       398\n",
            "           1       0.71      0.52      0.60        69\n",
            "\n",
            "    accuracy                           0.90       467\n",
            "   macro avg       0.81      0.74      0.77       467\n",
            "weighted avg       0.89      0.90      0.89       467\n",
            "\n"
          ]
        }
      ],
      "source": [
        "smote_svc = svm.SVC(kernel = 'rbf', C = 50, probability=True)\n",
        "smote_svm_model = smote_svc.fit(X_train, y_train)\n",
        "svm_predictions = smote_svm_model.predict(X_val)\n",
        "\n",
        "# confusion matrix\n",
        "cf_matrix = confusion_matrix(y_val, svm_predictions)\n",
        "print(\"\\nConfusion matrix:\\n\",cf_matrix)\n",
        "print(\"\\nClassification Report:\")\n",
        "print(classification_report(y_val, svm_predictions))"
      ]
    },
    {
      "cell_type": "markdown",
      "id": "S5tyu1plTaNw",
      "metadata": {
        "id": "S5tyu1plTaNw"
      },
      "source": [
        "# AdaBoost"
      ]
    },
    {
      "cell_type": "code",
      "execution_count": 222,
      "id": "3lEU0cqxTaNw",
      "metadata": {
        "colab": {
          "base_uri": "https://localhost:8080/"
        },
        "id": "3lEU0cqxTaNw",
        "outputId": "ce447493-9834-4bff-9945-82ecd9253eeb"
      },
      "outputs": [
        {
          "name": "stdout",
          "output_type": "stream",
          "text": [
            "\n",
            "Confusion matrix:\n",
            " [[376  22]\n",
            " [ 41  28]]\n",
            "\n",
            "Classification Report:\n",
            "              precision    recall  f1-score   support\n",
            "\n",
            "           0       0.90      0.94      0.92       398\n",
            "           1       0.56      0.41      0.47        69\n",
            "\n",
            "    accuracy                           0.87       467\n",
            "   macro avg       0.73      0.68      0.70       467\n",
            "weighted avg       0.85      0.87      0.86       467\n",
            "\n"
          ]
        }
      ],
      "source": [
        "smote_boost = AdaBoostClassifier()\n",
        "smote_boost_model = smote_boost.fit(X_train,y_train)\n",
        "abc_predictions=smote_boost_model.predict(X_val)\n",
        "\n",
        "# confusion matrix\n",
        "cf_matrix = confusion_matrix(y_val, abc_predictions)\n",
        "print(\"\\nConfusion matrix:\\n\",cf_matrix)\n",
        "print(\"\\nClassification Report:\")\n",
        "print(classification_report(y_val, abc_predictions))"
      ]
    },
    {
      "cell_type": "markdown",
      "id": "-kepDNnmTaNx",
      "metadata": {
        "id": "-kepDNnmTaNx"
      },
      "source": [
        "# Decision Tree"
      ]
    },
    {
      "cell_type": "code",
      "execution_count": 223,
      "id": "etjQrMngTaNx",
      "metadata": {
        "colab": {
          "base_uri": "https://localhost:8080/"
        },
        "id": "etjQrMngTaNx",
        "outputId": "e40fd2d8-cf60-40c7-8e3f-d2a8fbd2fc43"
      },
      "outputs": [
        {
          "name": "stdout",
          "output_type": "stream",
          "text": [
            "\n",
            "Confusion matrix:\n",
            " [[382  16]\n",
            " [ 21  48]]\n",
            "\n",
            "Classification Report:\n",
            "              precision    recall  f1-score   support\n",
            "\n",
            "           0       0.95      0.96      0.95       398\n",
            "           1       0.75      0.70      0.72        69\n",
            "\n",
            "    accuracy                           0.92       467\n",
            "   macro avg       0.85      0.83      0.84       467\n",
            "weighted avg       0.92      0.92      0.92       467\n",
            "\n"
          ]
        }
      ],
      "source": [
        "smote_clf_gini = DecisionTreeClassifier(criterion = \"gini\", max_depth = 5, min_samples_leaf = 5)\n",
        "smote_clf_gini.fit(X_train, y_train)\n",
        "clf=smote_clf_gini.predict(X_val)\n",
        "\n",
        "# confusion matrix\n",
        "cf_matrix = confusion_matrix(y_val, clf)\n",
        "print(\"\\nConfusion matrix:\\n\",cf_matrix)\n",
        "print(\"\\nClassification Report:\")\n",
        "print(classification_report(y_val, clf))"
      ]
    },
    {
      "cell_type": "code",
      "execution_count": 224,
      "id": "Ejf2DsofTaNx",
      "metadata": {
        "colab": {
          "base_uri": "https://localhost:8080/"
        },
        "id": "Ejf2DsofTaNx",
        "outputId": "7198a917-53b0-4f0c-b44c-e5af88d9822f"
      },
      "outputs": [
        {
          "name": "stdout",
          "output_type": "stream",
          "text": [
            "ROC-AUC Score for KNN = 0.7174823392323938\n",
            "ROC-AUC Score for Logistic Regression = 0.7845022212511835\n",
            "ROC-AUC Score for SVM = 0.8487000218483722\n",
            "ROC-AUC Score for Decision Tree = 0.8585135824047776\n",
            "ROC-AUC Score for Random Forest = 0.87031170344476\n",
            "ROC-AUC Score for AdaBoost = 0.821116451824339\n"
          ]
        }
      ],
      "source": [
        "# predict probabilities\n",
        "pred_prob7 = smote_clf_gini.predict_proba(X_val)           # array of probability of 0 and 1 for each observation in validation data\n",
        "pred_prob8 = smote_boost_model.predict_proba(X_val)\n",
        "pred_prob9 = smote_knn_model.predict_proba(X_val)\n",
        "pred_prob10 = smote_logistic_model.predict_proba(X_val)\n",
        "pred_prob11 = smote_svm_model.predict_proba(X_val)\n",
        "pred_prob12 = smote_rf_model.predict_proba(X_val)\n",
        "\n",
        "# roc curve for all the models we have created\n",
        "fpr7, tpr7, thresh7 = roc_curve(y_val, pred_prob7[:,1], pos_label=1)  # gives false positive rate, true positive rate and threshold\n",
        "fpr8, tpr8, thresh8 = roc_curve(y_val, pred_prob8[:,1], pos_label=1)\n",
        "fpr9, tpr9, thresh9 = roc_curve(y_val, pred_prob9[:,1], pos_label=1)\n",
        "fpr10, tpr10, thresh10 = roc_curve(y_val, pred_prob10[:,1], pos_label=1)\n",
        "fpr11, tpr11, thresh11 = roc_curve(y_val, pred_prob11[:,1], pos_label=1)\n",
        "fpr12, tpr12, thresh12 = roc_curve(y_val, pred_prob12[:,1], pos_label=1)\n",
        "\n",
        "# roc curve for tpr = fpr \n",
        "random_probs = [0 for i in range(len(y_val))]\n",
        "p_fpr, p_tpr, _ = roc_curve(y_val, random_probs, pos_label=1)     # will create roc curve for average model\n",
        "\n",
        "# area under curve scores\n",
        "auc_score7 = roc_auc_score(y_val, pred_prob7[:,1])      # gives roc auc scores\n",
        "auc_score8 = roc_auc_score(y_val, pred_prob8[:,1])\n",
        "auc_score9 = roc_auc_score(y_val, pred_prob9[:,1])\n",
        "auc_score10 = roc_auc_score(y_val, pred_prob10[:,1])\n",
        "auc_score11 = roc_auc_score(y_val, pred_prob11[:,1])\n",
        "auc_score12 = roc_auc_score(y_val, pred_prob12[:,1])\n",
        "\n",
        "print(\"ROC-AUC Score for KNN =\", auc_score9)\n",
        "print(\"ROC-AUC Score for Logistic Regression =\", auc_score10)\n",
        "print(\"ROC-AUC Score for SVM =\", auc_score11)\n",
        "print(\"ROC-AUC Score for Decision Tree =\", auc_score7)\n",
        "print(\"ROC-AUC Score for Random Forest =\", auc_score12)\n",
        "print(\"ROC-AUC Score for AdaBoost =\", auc_score8)"
      ]
    },
    {
      "cell_type": "code",
      "execution_count": 156,
      "id": "5xme3hkGTaNx",
      "metadata": {
        "colab": {
          "base_uri": "https://localhost:8080/",
          "height": 376
        },
        "id": "5xme3hkGTaNx",
        "outputId": "224ca1f1-a430-4115-93fa-7c8b9b3a6afb"
      },
      "outputs": [
        {
          "data": {
            "image/png": "[encoded data removed]",
            "text/plain": [
              "<Figure size 576x396 with 1 Axes>"
            ]
          },
          "metadata": {},
          "output_type": "display_data"
        }
      ],
      "source": [
        "plt.style.use('seaborn')\n",
        "\n",
        "# plot roc curves\n",
        "plt.plot(fpr7, tpr7, linestyle='--',color='orange', label='Decision Tree')\n",
        "plt.plot(fpr8, tpr8, linestyle='--',color='green', label='AdaBoost')\n",
        "plt.plot(fpr9, tpr9, linestyle='--',color='brown', label='KnnClassifier')\n",
        "plt.plot(fpr10, tpr10, linestyle='--',color='red', label='Logistic Regression')\n",
        "plt.plot(fpr11, tpr11, linestyle='--',color='yellow', label='SVM')\n",
        "plt.plot(fpr12, tpr12, linestyle='--',color='black', label='Random Forest')\n",
        "plt.plot(p_fpr, p_tpr, linestyle='--', color='blue')\n",
        "# title\n",
        "plt.title('ROC curve')\n",
        "# x label\n",
        "plt.xlabel('False Positive Rate')\n",
        "# y label\n",
        "plt.ylabel('True Positive rate')\n",
        "\n",
        "plt.legend(loc='best')\n",
        "plt.savefig('ROC',dpi=300)\n",
        "plt.show();"
      ]
    },
    {
      "cell_type": "code",
      "execution_count": 225,
      "id": "NUr2eNrz6kpc",
      "metadata": {
        "id": "NUr2eNrz6kpc"
      },
      "outputs": [],
      "source": [
        "comp = {\"KNN\":[auc_score3,auc_score9], \"Logistic Regression\":[auc_score4,auc_score10], \"SVM\":[auc_score5,auc_score11], \"Decision Tree\":[auc_score1,auc_score7], \"Random Forest\":[auc_score6,auc_score12], \"AdaBoost\":[auc_score2,auc_score8]}"
      ]
    },
    {
      "cell_type": "code",
      "execution_count": 226,
      "id": "SbbrrAWh7xEY",
      "metadata": {
        "colab": {
          "base_uri": "https://localhost:8080/",
          "height": 112
        },
        "id": "SbbrrAWh7xEY",
        "outputId": "c9d78613-2485-42f8-8230-f0a229052461"
      },
      "outputs": [
        {
          "data": {
            "text/html": [
              "\n",
              "  <div id=\"df-c45b27a4-4934-4b96-9220-83db9cc8a8d0\">\n",
              "    <div class=\"colab-df-container\">\n",
              "      <div>\n",
              "<style scoped>\n",
              "    .dataframe tbody tr th:only-of-type {\n",
              "        vertical-align: middle;\n",
              "    }\n",
              "\n",
              "    .dataframe tbody tr th {\n",
              "        vertical-align: top;\n",
              "    }\n",
              "\n",
              "    .dataframe thead th {\n",
              "        text-align: right;\n",
              "    }\n",
              "</style>\n",
              "<table border=\"1\" class=\"dataframe\">\n",
              "  <thead>\n",
              "    <tr style=\"text-align: right;\">\n",
              "      <th></th>\n",
              "      <th>KNN</th>\n",
              "      <th>Logistic Regression</th>\n",
              "      <th>SVM</th>\n",
              "      <th>Decision Tree</th>\n",
              "      <th>Random Forest</th>\n",
              "      <th>AdaBoost</th>\n",
              "    </tr>\n",
              "  </thead>\n",
              "  <tbody>\n",
              "    <tr>\n",
              "      <th>0</th>\n",
              "      <td>0.717482</td>\n",
              "      <td>0.784502</td>\n",
              "      <td>0.848846</td>\n",
              "      <td>0.857640</td>\n",
              "      <td>0.871295</td>\n",
              "      <td>0.821116</td>\n",
              "    </tr>\n",
              "    <tr>\n",
              "      <th>1</th>\n",
              "      <td>0.717482</td>\n",
              "      <td>0.784502</td>\n",
              "      <td>0.848700</td>\n",
              "      <td>0.858514</td>\n",
              "      <td>0.870312</td>\n",
              "      <td>0.821116</td>\n",
              "    </tr>\n",
              "  </tbody>\n",
              "</table>\n",
              "</div>\n",
              "      <button class=\"colab-df-convert\" onclick=\"convertToInteractive('df-c45b27a4-4934-4b96-9220-83db9cc8a8d0')\"\n",
              "              title=\"Convert this dataframe to an interactive table.\"\n",
              "              style=\"display:none;\">\n",
              "        \n",
              "  <svg xmlns=\"http://www.w3.org/2000/svg\" height=\"24px\"viewBox=\"0 0 24 24\"\n",
              "       width=\"24px\">\n",
              "    <path d=\"M0 0h24v24H0V0z\" fill=\"none\"/>\n",
              "    <path d=\"M18.56 5.44l.94 2.06.94-2.06 2.06-.94-2.06-.94-.94-2.06-.94 2.06-2.06.94zm-11 1L8.5 8.5l.94-2.06 2.06-.94-2.06-.94L8.5 2.5l-.94 2.06-2.06.94zm10 10l.94 2.06.94-2.06 2.06-.94-2.06-.94-.94-2.06-.94 2.06-2.06.94z\"/><path d=\"M17.41 7.96l-1.37-1.37c-.4-.4-.92-.59-1.43-.59-.52 0-1.04.2-1.43.59L10.3 9.45l-7.72 7.72c-.78.78-.78 2.05 0 2.83L4 21.41c.39.39.9.59 1.41.59.51 0 1.02-.2 1.41-.59l7.78-7.78 2.81-2.81c.8-.78.8-2.07 0-2.86zM5.41 20L4 18.59l7.72-7.72 1.47 1.35L5.41 20z\"/>\n",
              "  </svg>\n",
              "      </button>\n",
              "      \n",
              "  <style>\n",
              "    .colab-df-container {\n",
              "      display:flex;\n",
              "      flex-wrap:wrap;\n",
              "      gap: 12px;\n",
              "    }\n",
              "\n",
              "    .colab-df-convert {\n",
              "      background-color: #E8F0FE;\n",
              "      border: none;\n",
              "      border-radius: 50%;\n",
              "      cursor: pointer;\n",
              "      display: none;\n",
              "      fill: #1967D2;\n",
              "      height: 32px;\n",
              "      padding: 0 0 0 0;\n",
              "      width: 32px;\n",
              "    }\n",
              "\n",
              "    .colab-df-convert:hover {\n",
              "      background-color: #E2EBFA;\n",
              "      box-shadow: 0px 1px 2px rgba(60, 64, 67, 0.3), 0px 1px 3px 1px rgba(60, 64, 67, 0.15);\n",
              "      fill: #174EA6;\n",
              "    }\n",
              "\n",
              "    [theme=dark] .colab-df-convert {\n",
              "      background-color: #3B4455;\n",
              "      fill: #D2E3FC;\n",
              "    }\n",
              "\n",
              "    [theme=dark] .colab-df-convert:hover {\n",
              "      background-color: #434B5C;\n",
              "      box-shadow: 0px 1px 3px 1px rgba(0, 0, 0, 0.15);\n",
              "      filter: drop-shadow(0px 1px 2px rgba(0, 0, 0, 0.3));\n",
              "      fill: #FFFFFF;\n",
              "    }\n",
              "  </style>\n",
              "\n",
              "      <script>\n",
              "        const buttonEl =\n",
              "          document.querySelector('#df-c45b27a4-4934-4b96-9220-83db9cc8a8d0 button.colab-df-convert');\n",
              "        buttonEl.style.display =\n",
              "          google.colab.kernel.accessAllowed ? 'block' : 'none';\n",
              "\n",
              "        async function convertToInteractive(key) {\n",
              "          const element = document.querySelector('#df-c45b27a4-4934-4b96-9220-83db9cc8a8d0');\n",
              "          const dataTable =\n",
              "            await google.colab.kernel.invokeFunction('convertToInteractive',\n",
              "                                                     [key], {});\n",
              "          if (!dataTable) return;\n",
              "\n",
              "          const docLinkHtml = 'Like what you see? Visit the ' +\n",
              "            '<a target=\"_blank\" href=https://colab.research.google.com/notebooks/data_table.ipynb>data table notebook</a>'\n",
              "            + ' to learn more about interactive tables.';\n",
              "          element.innerHTML = '';\n",
              "          dataTable['output_type'] = 'display_data';\n",
              "          await google.colab.output.renderOutput(dataTable, element);\n",
              "          const docLink = document.createElement('div');\n",
              "          docLink.innerHTML = docLinkHtml;\n",
              "          element.appendChild(docLink);\n",
              "        }\n",
              "      </script>\n",
              "    </div>\n",
              "  </div>\n",
              "  "
            ],
            "text/plain": [
              "        KNN  Logistic Regression       SVM  Decision Tree  Random Forest  \\\n",
              "0  0.717482             0.784502  0.848846       0.857640       0.871295   \n",
              "1  0.717482             0.784502  0.848700       0.858514       0.870312   \n",
              "\n",
              "   AdaBoost  \n",
              "0  0.821116  \n",
              "1  0.821116  "
            ]
          },
          "execution_count": 226,
          "metadata": {},
          "output_type": "execute_result"
        }
      ],
      "source": [
        "pd.DataFrame(comp)"
      ]
    },
    {
      "cell_type": "markdown",
      "id": "BBzATk2fTaNy",
      "metadata": {
        "id": "BBzATk2fTaNy"
      },
      "source": [
        "# Testing of models on Test data"
      ]
    },
    {
      "cell_type": "markdown",
      "id": "pPn-HhyMTaN2",
      "metadata": {
        "id": "pPn-HhyMTaN2"
      },
      "source": [
        "### Random Forest"
      ]
    },
    {
      "cell_type": "code",
      "execution_count": 227,
      "id": "ijHZqzE5TaN2",
      "metadata": {
        "colab": {
          "base_uri": "https://localhost:8080/"
        },
        "id": "ijHZqzE5TaN2",
        "outputId": "1e2eb137-e559-4d28-c0b7-5f43f1cdd9e0"
      },
      "outputs": [
        {
          "name": "stdout",
          "output_type": "stream",
          "text": [
            "\n",
            "Confusion matrix:\n",
            " [[850  14]\n",
            " [ 34 102]]\n",
            "\n",
            "Classification Report:\n",
            "              precision    recall  f1-score   support\n",
            "\n",
            "           0       0.96      0.98      0.97       864\n",
            "           1       0.88      0.75      0.81       136\n",
            "\n",
            "    accuracy                           0.95      1000\n",
            "   macro avg       0.92      0.87      0.89      1000\n",
            "weighted avg       0.95      0.95      0.95      1000\n",
            "\n"
          ]
        }
      ],
      "source": [
        "rf_predictions = rf_model.predict(test_df)\n",
        "\n",
        "# confusion matrix\n",
        "cf_matrix = confusion_matrix(test_target, rf_predictions)\n",
        "\n",
        "print(\"\\nConfusion matrix:\\n\",cf_matrix)\n",
        "print(\"\\nClassification Report:\")\n",
        "print(classification_report(test_target, rf_predictions))"
      ]
    },
    {
      "cell_type": "markdown",
      "id": "U8o5G3ZzTaN2",
      "metadata": {
        "id": "U8o5G3ZzTaN2"
      },
      "source": [
        "### SVM"
      ]
    },
    {
      "cell_type": "code",
      "execution_count": 228,
      "id": "Wg9Q3q2ETaN3",
      "metadata": {
        "colab": {
          "base_uri": "https://localhost:8080/"
        },
        "id": "Wg9Q3q2ETaN3",
        "outputId": "8fd1b6b8-179c-4734-a581-b00153d3ce64"
      },
      "outputs": [
        {
          "name": "stdout",
          "output_type": "stream",
          "text": [
            "\n",
            "Confusion matrix:\n",
            " [[830  34]\n",
            " [ 55  81]]\n",
            "\n",
            "Classification Report:\n",
            "              precision    recall  f1-score   support\n",
            "\n",
            "           0       0.94      0.96      0.95       864\n",
            "           1       0.70      0.60      0.65       136\n",
            "\n",
            "    accuracy                           0.91      1000\n",
            "   macro avg       0.82      0.78      0.80      1000\n",
            "weighted avg       0.91      0.91      0.91      1000\n",
            "\n"
          ]
        }
      ],
      "source": [
        "svm_predictions = svm_model.predict(test_df)\n",
        "\n",
        "# confusion matrix\n",
        "cf_matrix = confusion_matrix(test_target, svm_predictions)\n",
        "\n",
        "print(\"\\nConfusion matrix:\\n\",cf_matrix)\n",
        "print(\"\\nClassification Report:\")\n",
        "print(classification_report(test_target, svm_predictions))"
      ]
    },
    {
      "cell_type": "markdown",
      "id": "RYBsv4ydTaN3",
      "metadata": {
        "id": "RYBsv4ydTaN3"
      },
      "source": [
        "### Adaboost"
      ]
    },
    {
      "cell_type": "code",
      "execution_count": 229,
      "id": "6SccSN9TTaN3",
      "metadata": {
        "colab": {
          "base_uri": "https://localhost:8080/"
        },
        "id": "6SccSN9TTaN3",
        "outputId": "c0ec5d2e-7623-4371-850e-750b6ea7dfb8"
      },
      "outputs": [
        {
          "name": "stdout",
          "output_type": "stream",
          "text": [
            "\n",
            "Confusion matrix:\n",
            " [[824  40]\n",
            " [ 72  64]]\n",
            "\n",
            "Classification Report:\n",
            "              precision    recall  f1-score   support\n",
            "\n",
            "           0       0.92      0.95      0.94       864\n",
            "           1       0.62      0.47      0.53       136\n",
            "\n",
            "    accuracy                           0.89      1000\n",
            "   macro avg       0.77      0.71      0.73      1000\n",
            "weighted avg       0.88      0.89      0.88      1000\n",
            "\n"
          ]
        }
      ],
      "source": [
        "abc_predictions = boost_model.predict(test_df)\n",
        "\n",
        "# confusion matrix\n",
        "cf_matrix = confusion_matrix(test_target, abc_predictions)\n",
        "\n",
        "print(\"\\nConfusion matrix:\\n\",cf_matrix)\n",
        "print(\"\\nClassification Report:\")\n",
        "print(classification_report(test_target, abc_predictions))"
      ]
    },
    {
      "cell_type": "markdown",
      "id": "TRFgWqKjTaN3",
      "metadata": {
        "id": "TRFgWqKjTaN3"
      },
      "source": [
        "### Decision Tree"
      ]
    },
    {
      "cell_type": "code",
      "execution_count": 230,
      "id": "dw1RPUyzTaN4",
      "metadata": {
        "colab": {
          "base_uri": "https://localhost:8080/"
        },
        "id": "dw1RPUyzTaN4",
        "outputId": "bd2dc58c-356e-4142-cd36-97fd83ebde14"
      },
      "outputs": [
        {
          "name": "stdout",
          "output_type": "stream",
          "text": [
            "\n",
            "Confusion matrix:\n",
            " [[837  27]\n",
            " [ 44  92]]\n",
            "\n",
            "Classification Report:\n",
            "              precision    recall  f1-score   support\n",
            "\n",
            "           0       0.95      0.97      0.96       864\n",
            "           1       0.77      0.68      0.72       136\n",
            "\n",
            "    accuracy                           0.93      1000\n",
            "   macro avg       0.86      0.82      0.84      1000\n",
            "weighted avg       0.93      0.93      0.93      1000\n",
            "\n"
          ]
        }
      ],
      "source": [
        "clf = dt_model.predict(test_df)\n",
        "\n",
        "# confustion matrix\n",
        "cf_matrix = confusion_matrix(test_target, clf)\n",
        "\n",
        "print(\"\\nConfusion matrix:\\n\",cf_matrix)\n",
        "print(\"\\nClassification Report:\")\n",
        "print(classification_report(test_target, clf))"
      ]
    },
    {
      "cell_type": "code",
      "execution_count": 231,
      "id": "v4esgvY1TaN4",
      "metadata": {
        "colab": {
          "base_uri": "https://localhost:8080/"
        },
        "id": "v4esgvY1TaN4",
        "outputId": "97a31ad7-4b9f-4f18-f6c4-dbdfeb8b23f9"
      },
      "outputs": [
        {
          "name": "stdout",
          "output_type": "stream",
          "text": [
            "ROC-AUC Score for SVM = 0.886029411764706\n",
            "ROC-AUC Score for Decision Tree = 0.8749659586056644\n",
            "ROC-AUC Score for Random Forest = 0.9048713235294117\n",
            "ROC-AUC Score for AdaBoost = 0.8505497685185186\n"
          ]
        }
      ],
      "source": [
        "# predict probabilities\n",
        "pred_prob1 = dt_model.predict_proba(test_df)           # array of probability of 0 and 1 for each observation in validation data\n",
        "pred_prob2 = boost_model.predict_proba(test_df)\n",
        "pred_prob3 = svm_model.predict_proba(test_df)\n",
        "pred_prob4 = rf_model.predict_proba(test_df)\n",
        "\n",
        "# roc curve for all the models we have created\n",
        "fpr1, tpr1, thresh1 = roc_curve(test_target, pred_prob1[:,1], pos_label=1)  # gives false positive rate, true positive rate and threshold\n",
        "fpr2, tpr2, thresh2 = roc_curve(test_target, pred_prob2[:,1], pos_label=1)\n",
        "fpr3, tpr3, thresh3 = roc_curve(test_target, pred_prob3[:,1], pos_label=1)\n",
        "fpr4, tpr4, thresh4 = roc_curve(test_target, pred_prob4[:,1], pos_label=1)\n",
        "\n",
        "# roc curve for tpr = fpr \n",
        "random_probs = [0 for i in range(len(test_target))]\n",
        "p_fpr, p_tpr, _ = roc_curve(test_target, random_probs, pos_label=1)     # will create roc curve for average model\n",
        "\n",
        "# area under curve scores\n",
        "auc_score1 = roc_auc_score(test_target, pred_prob1[:,1])      # gives roc auc scores\n",
        "auc_score2 = roc_auc_score(test_target, pred_prob2[:,1])\n",
        "auc_score3 = roc_auc_score(test_target, pred_prob3[:,1])\n",
        "auc_score4 = roc_auc_score(test_target, pred_prob4[:,1])\n",
        "\n",
        "print(\"ROC-AUC Score for SVM =\", auc_score3)\n",
        "print(\"ROC-AUC Score for Decision Tree =\", auc_score1)\n",
        "print(\"ROC-AUC Score for Random Forest =\", auc_score4)\n",
        "print(\"ROC-AUC Score for AdaBoost =\", auc_score2)"
      ]
    },
    {
      "cell_type": "code",
      "execution_count": 232,
      "id": "4c7gTBIzTaN4",
      "metadata": {
        "colab": {
          "base_uri": "https://localhost:8080/",
          "height": 376
        },
        "id": "4c7gTBIzTaN4",
        "outputId": "9ec4a547-d5a3-49fd-9393-3a1fd2ab21b6"
      },
      "outputs": [
        {
          "data": {
            "image/png": "[encoded data removed]",
            "text/plain": [
              "<Figure size 576x396 with 1 Axes>"
            ]
          },
          "metadata": {},
          "output_type": "display_data"
        }
      ],
      "source": [
        "plt.style.use('seaborn')\n",
        "\n",
        "# plot roc curves\n",
        "plt.plot(fpr1, tpr1, linestyle='--',color='red', label='Decision Tree')\n",
        "plt.plot(fpr2, tpr2, linestyle='--',color='green', label='AdaBoost')\n",
        "plt.plot(fpr3, tpr3, linestyle='--',color='yellow', label='SVM')\n",
        "plt.plot(fpr4, tpr4, linestyle='--',color='black', label='Random Forest')\n",
        "plt.plot(p_fpr, p_tpr, linestyle='--', color='blue')\n",
        "# title\n",
        "plt.title('ROC curve')\n",
        "# x label\n",
        "plt.xlabel('False Positive Rate')\n",
        "# y label\n",
        "plt.ylabel('True Positive rate')\n",
        "\n",
        "plt.legend(loc='best')\n",
        "plt.show()"
      ]
    },
    {
      "cell_type": "markdown",
      "id": "LJkrOtceTaN5",
      "metadata": {
        "id": "LJkrOtceTaN5"
      },
      "source": [
        "### Based on the ROC-AUC score and ROC curve, we found out that the Random Forest which we fitted on the data is giving us the best result on test data."
      ]
    }
  ],
  "metadata": {
    "colab": {
      "collapsed_sections": [
        "vxSxoza0TaNm",
        "fPhWtH9hTaNm",
        "LJkrOtceTaN5"
      ],
      "name": "AML_EndTerm_Adarsh.ipynb",
      "provenance": []
    },
    "kernelspec": {
      "display_name": "Python 3",
      "language": "python",
      "name": "python3"
    },
    "language_info": {
      "codemirror_mode": {
        "name": "ipython",
        "version": 3
      },
      "file_extension": ".py",
      "mimetype": "text/x-python",
      "name": "python",
      "nbconvert_exporter": "python",
      "pygments_lexer": "ipython3",
      "version": "3.8.5"
    }
  },
  "nbformat": 4,
  "nbformat_minor": 5
}
